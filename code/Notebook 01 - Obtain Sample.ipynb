{
 "cells": [
  {
   "cell_type": "markdown",
   "id": "b9ab5233",
   "metadata": {},
   "source": [
    "**OBJECTIVE:** Introduce the notion of pre-trained models using HuggingFace\n",
    "\n",
    "**AUTHOR:** [@jonjoncardoso](https://github.com/jonjoncardoso)\n",
    "\n",
    "**LAST UPDATED:** 20/02/2022"
   ]
  },
  {
   "cell_type": "markdown",
   "id": "c15028af",
   "metadata": {},
   "source": [
    "# Imports\n",
    "\n",
    "Import libraries and initialise variables that will be re-used throughout this notebook"
   ]
  },
  {
   "cell_type": "code",
   "execution_count": 3,
   "id": "4452b95d",
   "metadata": {
    "tags": []
   },
   "outputs": [],
   "source": [
    "import os\n",
    "import wget\n",
    "import pandas as pd\n",
    "import numpy as np\n",
    "import matplotlib.pyplot as plt\n",
    "\n",
    "import tqdm\n",
    "from tqdm.notebook import tqdm_notebook\n",
    "tqdm_notebook.pandas()\n",
    "\n",
    "from plotnine import * # This package emulates ggplot2 syntax, an R package, in python\n",
    "\n",
    "%matplotlib inline"
   ]
  },
  {
   "cell_type": "markdown",
   "id": "a227fef6",
   "metadata": {},
   "source": [
    "# Download data\n",
    "\n",
    "We will be using data curated on the repository [several27/FakeNewsCorpus](https://github.com/several27/FakeNewsCorpus).\n",
    "\n",
    "The cell below downloads all the data to the `../data` directory:"
   ]
  },
  {
   "cell_type": "code",
   "execution_count": 2,
   "id": "bde996f8",
   "metadata": {},
   "outputs": [
    {
     "name": "stderr",
     "output_type": "stream",
     "text": [
      "  0%|                                                                                             | 0/9 [00:00<?, ?it/s]"
     ]
    },
    {
     "name": "stdout",
     "output_type": "stream",
     "text": [
      " 99% [................................................................... ] 1073266688 / 1073741824"
     ]
    },
    {
     "name": "stderr",
     "output_type": "stream",
     "text": [
      " 11%|█████████▎                                                                          | 1/9 [02:36<20:55, 156.90s/it]"
     ]
    },
    {
     "name": "stdout",
     "output_type": "stream",
     "text": [
      " 99% [................................................................... ] 1073348608 / 1073741824"
     ]
    },
    {
     "name": "stderr",
     "output_type": "stream",
     "text": [
      " 22%|██████████████████▋                                                                 | 2/9 [04:50<16:42, 143.17s/it]"
     ]
    },
    {
     "name": "stdout",
     "output_type": "stream",
     "text": [
      " 99% [................................................................... ] 1073725440 / 1073741824"
     ]
    },
    {
     "name": "stderr",
     "output_type": "stream",
     "text": [
      " 33%|████████████████████████████                                                        | 3/9 [06:41<12:52, 128.72s/it]"
     ]
    },
    {
     "name": "stdout",
     "output_type": "stream",
     "text": [
      " 99% [................................................................... ] 1073233920 / 1073741824"
     ]
    },
    {
     "name": "stderr",
     "output_type": "stream",
     "text": [
      " 44%|█████████████████████████████████████▎                                              | 4/9 [08:42<10:26, 125.34s/it]"
     ]
    },
    {
     "name": "stdout",
     "output_type": "stream",
     "text": [
      " 99% [................................................................... ] 1069547520 / 1073741824"
     ]
    },
    {
     "name": "stderr",
     "output_type": "stream",
     "text": [
      " 56%|██████████████████████████████████████████████▋                                     | 5/9 [10:08<07:24, 111.21s/it]"
     ]
    },
    {
     "name": "stdout",
     "output_type": "stream",
     "text": [
      " 99% [................................................................... ] 1073725440 / 1073741824"
     ]
    },
    {
     "name": "stderr",
     "output_type": "stream",
     "text": [
      " 67%|████████████████████████████████████████████████████████                            | 6/9 [11:27<05:01, 100.40s/it]"
     ]
    },
    {
     "name": "stdout",
     "output_type": "stream",
     "text": [
      " 99% [................................................................... ] 1073643520 / 1073741824"
     ]
    },
    {
     "name": "stderr",
     "output_type": "stream",
     "text": [
      " 78%|█████████████████████████████████████████████████████████████████▎                  | 7/9 [13:31<03:35, 107.90s/it]"
     ]
    },
    {
     "name": "stdout",
     "output_type": "stream",
     "text": [
      " 99% [................................................................... ] 1073725440 / 1073741824"
     ]
    },
    {
     "name": "stderr",
     "output_type": "stream",
     "text": [
      " 89%|██████████████████████████████████████████████████████████████████████████▋         | 8/9 [16:04<02:02, 122.50s/it]"
     ]
    },
    {
     "name": "stdout",
     "output_type": "stream",
     "text": [
      " 99% [................................................................... ] 1073389568 / 1073741824"
     ]
    },
    {
     "name": "stderr",
     "output_type": "stream",
     "text": [
      "100%|████████████████████████████████████████████████████████████████████████████████████| 9/9 [17:02<00:00, 113.64s/it]"
     ]
    },
    {
     "name": "stdout",
     "output_type": "stream",
     "text": [
      "100% [....................................................................] 1073741824 / 1073741824"
     ]
    },
    {
     "name": "stderr",
     "output_type": "stream",
     "text": [
      "\n"
     ]
    }
   ],
   "source": [
    "# common_url = \"https://github.com/several27/FakeNewsCorpus/releases/download/v1.0/news.csv.z%02d\"\n",
    "\n",
    "# for i in tqdm.tqdm(range(1, 9+1)):\n",
    "#     wget.download(common_url % i, out=\"../data/\")"
   ]
  },
  {
   "cell_type": "code",
   "execution_count": null,
   "id": "8141d8b6",
   "metadata": {
    "execution": {
     "iopub.execute_input": "2022-02-22T11:00:10.256037Z",
     "iopub.status.busy": "2022-02-22T11:00:10.255117Z"
    },
    "tags": []
   },
   "outputs": [
    {
     "name": "stdout",
     "output_type": "stream",
     "text": [
      "100% [......................................................................] 142148858 / 142148858"
     ]
    },
    {
     "data": {
      "text/plain": [
       "'../data//news.csv.zip'"
      ]
     },
     "execution_count": 9,
     "metadata": {},
     "output_type": "execute_result"
    }
   ],
   "source": [
    "# wget.download(\", out=\"../data/\")"
   ]
  },
  {
   "cell_type": "markdown",
   "id": "114ea9fc",
   "metadata": {},
   "source": [
    "The files above form [a multipart zip file](https://stackoverflow.com/a/54639948/843365). We have to combine all of them into a single zip file:"
   ]
  },
  {
   "cell_type": "code",
   "execution_count": 14,
   "id": "98ea845d",
   "metadata": {
    "execution": {
     "iopub.execute_input": "2022-02-22T11:07:52.161555Z",
     "iopub.status.busy": "2022-02-22T11:07:52.161287Z",
     "iopub.status.idle": "2022-02-22T11:08:02.345694Z",
     "shell.execute_reply": "2022-02-22T11:08:02.342916Z",
     "shell.execute_reply.started": "2022-02-22T11:07:52.161536Z"
    },
    "tags": []
   },
   "outputs": [],
   "source": [
    "# !cat ../data/news.csv.z* > ../data/news.zip"
   ]
  },
  {
   "cell_type": "markdown",
   "id": "c01e1031",
   "metadata": {
    "execution": {
     "iopub.execute_input": "2022-02-21T12:26:30.703537Z",
     "iopub.status.busy": "2022-02-21T12:26:30.701725Z",
     "iopub.status.idle": "2022-02-21T12:26:31.025196Z",
     "shell.execute_reply": "2022-02-21T12:26:31.023747Z",
     "shell.execute_reply.started": "2022-02-21T12:26:30.703399Z"
    },
    "tags": []
   },
   "source": [
    "Then, we can unzip it all into a single csv file:"
   ]
  },
  {
   "cell_type": "code",
   "execution_count": 23,
   "id": "b195e1fa",
   "metadata": {
    "execution": {
     "iopub.execute_input": "2022-02-22T11:10:18.949777Z",
     "iopub.status.busy": "2022-02-22T11:10:18.949573Z",
     "iopub.status.idle": "2022-02-22T11:13:03.033818Z",
     "shell.execute_reply": "2022-02-22T11:13:03.031596Z",
     "shell.execute_reply.started": "2022-02-22T11:10:18.949760Z"
    },
    "tags": []
   },
   "outputs": [
    {
     "name": "stdout",
     "output_type": "stream",
     "text": [
      "Archive:  ../data/news.zip\n",
      "error: End-of-centdir-64 signature not where expected (prepended bytes?)\n",
      "  (attempting to process anyway)\n",
      "warning [../data/news.zip]:  zipfile claims to be last disk of a multi-part archive;\n",
      "  attempting to process anyway, assuming all parts have been concatenated\n",
      "  together in order.  Expect \"errors\" and warnings...true multi-part support\n",
      "  doesn't exist yet (coming soon).\n",
      "warning [../data/news.zip]:  9663676416 extra bytes at beginning or within zipfile\n",
      "  (attempting to process anyway)\n",
      "file #1:  bad zipfile offset (local header sig):  9663676420\n",
      "  (attempting to re-compensate)\n",
      "  inflating: ../data/news_cleaned_2018_02_13.csv  \n"
     ]
    }
   ],
   "source": [
    "# !unzip ../data/news.zip -d ../data/"
   ]
  },
  {
   "cell_type": "markdown",
   "id": "4f741716",
   "metadata": {},
   "source": [
    "The name of the CSV file is `news_cleaned_2018_02_13.csv` as it can be seen from the log above."
   ]
  },
  {
   "cell_type": "code",
   "execution_count": 24,
   "id": "19f2f2b6",
   "metadata": {
    "execution": {
     "iopub.execute_input": "2022-02-22T11:13:14.579216Z",
     "iopub.status.busy": "2022-02-22T11:13:14.579038Z",
     "iopub.status.idle": "2022-02-22T11:13:14.708203Z",
     "shell.execute_reply": "2022-02-22T11:13:14.705658Z",
     "shell.execute_reply.started": "2022-02-22T11:13:14.579201Z"
    },
    "tags": []
   },
   "outputs": [
    {
     "name": "stdout",
     "output_type": "stream",
     "text": [
      "-rw-r--r-- 1 jonathan jonathan 28G Feb 12  2018 ../data/news_cleaned_2018_02_13.csv\n"
     ]
    }
   ],
   "source": [
    "# !ls ../data/*csv -lth"
   ]
  },
  {
   "cell_type": "markdown",
   "id": "e36cbd70-1b4d-4243-a59e-5dc5772f4505",
   "metadata": {},
   "source": [
    "# Constants"
   ]
  },
  {
   "cell_type": "code",
   "execution_count": 4,
   "id": "7bea37ec-1d1c-461e-817f-a805a2d649f3",
   "metadata": {
    "tags": []
   },
   "outputs": [],
   "source": [
    "map_dtypes = {'Unnamed: 0': str, \n",
    "              'id': str, \n",
    "              'domain': str, \n",
    "              'type': 'category', \n",
    "              'url': str, \n",
    "              'content': str, \n",
    "              'scraped_at': str, \n",
    "              'inserted_at': str,\n",
    "              'updated_at': str, \n",
    "              'title': str, \n",
    "              'authors': str, \n",
    "              'keywords': str, \n",
    "              'meta_keywords': str,\n",
    "              'meta_description': str, \n",
    "              'tags': str, \n",
    "              'summary': str, \n",
    "              'source': str}\n",
    "\n",
    "DATASET_PATH = \"../data/FakeNews/news_cleaned_2018_02_13.csv\""
   ]
  },
  {
   "cell_type": "markdown",
   "id": "4b67aaac-39e4-4d3d-8316-85c496ea1246",
   "metadata": {},
   "source": [
    "# Pre-processing\n",
    "\n",
    "Several lines in this CSV are malformed. It is a very tricky issue because if a line, say n=500, is in the wrong format, this leads to all the following lines (n > 500) to be parsed incorrectly too.\n",
    "\n",
    "## Weird `type` category: a telling sign\n",
    "\n",
    "I will show you one example that I found by manually inspecting the data:"
   ]
  },
  {
   "cell_type": "code",
   "execution_count": 24,
   "id": "d666440d-01f8-4f84-ba2f-f0533f049404",
   "metadata": {
    "execution": {
     "iopub.execute_input": "2022-02-24T17:09:04.153191Z",
     "iopub.status.busy": "2022-02-24T17:09:04.152963Z",
     "iopub.status.idle": "2022-02-24T17:09:24.189838Z",
     "shell.execute_reply": "2022-02-24T17:09:24.189259Z",
     "shell.execute_reply.started": "2022-02-24T17:09:04.153168Z"
    },
    "tags": []
   },
   "outputs": [],
   "source": [
    "tmp_df = pd.read_csv(DATASET_PATH, \n",
    "                     nrows=718363, \n",
    "                     dtype=map_dtypes, \n",
    "                     parse_dates=[\"scraped_at\", \"inserted_at\", \"updated_at\"])"
   ]
  },
  {
   "cell_type": "markdown",
   "id": "0c40114a-0b2f-4ae0-814e-1cbac2c9de21",
   "metadata": {},
   "source": [
    "If you summarise this data by the `type` variable, you will see one category that does not make sense:"
   ]
  },
  {
   "cell_type": "code",
   "execution_count": 25,
   "id": "2ff7ac74-8242-4307-b5ff-f45df9a4530b",
   "metadata": {
    "execution": {
     "iopub.execute_input": "2022-02-24T17:09:24.190960Z",
     "iopub.status.busy": "2022-02-24T17:09:24.190723Z",
     "iopub.status.idle": "2022-02-24T17:09:24.199059Z",
     "shell.execute_reply": "2022-02-24T17:09:24.198615Z",
     "shell.execute_reply.started": "2022-02-24T17:09:24.190940Z"
    },
    "tags": []
   },
   "outputs": [
    {
     "data": {
      "text/plain": [
       "political                     200584\n",
       "bias                          106684\n",
       "conspiracy                    102824\n",
       "fake                           77133\n",
       "rumor                          26896\n",
       "unknown                        15854\n",
       "clickbait                      15389\n",
       "junksci                        14516\n",
       "satire                         12849\n",
       "unreliable                      6484\n",
       "hate                            3208\n",
       "reliable                        2604\n",
       "2018-02-02 01:19:41.756664         1\n",
       "Name: type, dtype: int64"
      ]
     },
     "execution_count": 25,
     "metadata": {},
     "output_type": "execute_result"
    }
   ],
   "source": [
    "tmp_df[\"type\"].value_counts()"
   ]
  },
  {
   "cell_type": "markdown",
   "id": "9406baee-1613-4f1a-8ac4-fce4eb07ef1a",
   "metadata": {},
   "source": [
    "The string `2018-02-02 01:19:41.756664` should not definitely be there. It is not a type of news but a datetime that was put in the wrong place. \n",
    "\n",
    "If you inspect the last line of the `tmp_df` above, you will notice that it is probably due to repeated information. Some of the content of line 718361 also appears in line 718362 but in a weird way:"
   ]
  },
  {
   "cell_type": "code",
   "execution_count": 26,
   "id": "4e2a59af-6592-4c53-bf36-d1f5d12631ca",
   "metadata": {
    "execution": {
     "iopub.execute_input": "2022-02-24T17:09:24.200221Z",
     "iopub.status.busy": "2022-02-24T17:09:24.200061Z",
     "iopub.status.idle": "2022-02-24T17:09:24.212567Z",
     "shell.execute_reply": "2022-02-24T17:09:24.212137Z",
     "shell.execute_reply.started": "2022-02-24T17:09:24.200203Z"
    },
    "tags": []
   },
   "outputs": [
    {
     "data": {
      "text/html": [
       "<div>\n",
       "<style scoped>\n",
       "    .dataframe tbody tr th:only-of-type {\n",
       "        vertical-align: middle;\n",
       "    }\n",
       "\n",
       "    .dataframe tbody tr th {\n",
       "        vertical-align: top;\n",
       "    }\n",
       "\n",
       "    .dataframe thead th {\n",
       "        text-align: right;\n",
       "    }\n",
       "</style>\n",
       "<table border=\"1\" class=\"dataframe\">\n",
       "  <thead>\n",
       "    <tr style=\"text-align: right;\">\n",
       "      <th></th>\n",
       "      <th>Unnamed: 0</th>\n",
       "      <th>id</th>\n",
       "      <th>domain</th>\n",
       "      <th>type</th>\n",
       "      <th>url</th>\n",
       "      <th>content</th>\n",
       "      <th>scraped_at</th>\n",
       "      <th>inserted_at</th>\n",
       "      <th>updated_at</th>\n",
       "      <th>title</th>\n",
       "      <th>authors</th>\n",
       "      <th>keywords</th>\n",
       "      <th>meta_keywords</th>\n",
       "      <th>meta_description</th>\n",
       "      <th>tags</th>\n",
       "      <th>summary</th>\n",
       "      <th>source</th>\n",
       "    </tr>\n",
       "  </thead>\n",
       "  <tbody>\n",
       "    <tr>\n",
       "      <th>718361</th>\n",
       "      <td>2041</td>\n",
       "      <td>659088</td>\n",
       "      <td>rinf.com</td>\n",
       "      <td>political</td>\n",
       "      <td>http://rinf.com/alt-news/newswire/taking-the-w...</td>\n",
       "      <td>NATO will be holding a landmark summit in Wars...</td>\n",
       "      <td>2018-01-25 20:13:50.426130</td>\n",
       "      <td>2018-02-02 01:19:41.756632</td>\n",
       "      <td>2018-02-02 01:19:41.756664</td>\n",
       "      <td>Taking the War Out of Warsaw</td>\n",
       "      <td>NaN</td>\n",
       "      <td>NaN</td>\n",
       "      <td>['']</td>\n",
       "      <td>NATO will be holding a landmark summit in Wars...</td>\n",
       "      <td>NaN</td>\n",
       "      <td>NaN</td>\n",
       "      <td>NaN</td>\n",
       "    </tr>\n",
       "    <tr>\n",
       "      <th>718362</th>\n",
       "      <td>a…\"</td>\n",
       "      <td>2018-01-25 20:13:50.426130</td>\n",
       "      <td>2018-02-02 01:19:41.756632</td>\n",
       "      <td>2018-02-02 01:19:41.756664</td>\n",
       "      <td>Taking the War Out of Warsaw</td>\n",
       "      <td>NaN</td>\n",
       "      <td>NaT</td>\n",
       "      <td>['']</td>\n",
       "      <td>NATO will be holding a landmark summit in Wars...</td>\n",
       "      <td>NaN</td>\n",
       "      <td>NaN</td>\n",
       "      <td>NaN</td>\n",
       "      <td>NaN</td>\n",
       "      <td>NaN</td>\n",
       "      <td>NaN</td>\n",
       "      <td>NaN</td>\n",
       "      <td>NaN</td>\n",
       "    </tr>\n",
       "  </tbody>\n",
       "</table>\n",
       "</div>"
      ],
      "text/plain": [
       "       Unnamed: 0                          id                      domain  \\\n",
       "718361       2041                      659088                    rinf.com   \n",
       "718362        a…\"  2018-01-25 20:13:50.426130  2018-02-02 01:19:41.756632   \n",
       "\n",
       "                              type  \\\n",
       "718361                   political   \n",
       "718362  2018-02-02 01:19:41.756664   \n",
       "\n",
       "                                                      url  \\\n",
       "718361  http://rinf.com/alt-news/newswire/taking-the-w...   \n",
       "718362                       Taking the War Out of Warsaw   \n",
       "\n",
       "                                                  content  \\\n",
       "718361  NATO will be holding a landmark summit in Wars...   \n",
       "718362                                                NaN   \n",
       "\n",
       "                       scraped_at                 inserted_at  \\\n",
       "718361 2018-01-25 20:13:50.426130  2018-02-02 01:19:41.756632   \n",
       "718362                        NaT                        ['']   \n",
       "\n",
       "                                               updated_at  \\\n",
       "718361                         2018-02-02 01:19:41.756664   \n",
       "718362  NATO will be holding a landmark summit in Wars...   \n",
       "\n",
       "                               title authors keywords meta_keywords  \\\n",
       "718361  Taking the War Out of Warsaw     NaN      NaN          ['']   \n",
       "718362                           NaN     NaN      NaN           NaN   \n",
       "\n",
       "                                         meta_description tags summary source  \n",
       "718361  NATO will be holding a landmark summit in Wars...  NaN     NaN    NaN  \n",
       "718362                                                NaN  NaN     NaN    NaN  "
      ]
     },
     "execution_count": 26,
     "metadata": {},
     "output_type": "execute_result"
    }
   ],
   "source": [
    "tmp_df.tail(2)"
   ]
  },
  {
   "cell_type": "markdown",
   "id": "bc9cff44-1bae-41e8-a297-3b41b4e60b6a",
   "metadata": {},
   "source": [
    "What are the categorical types?"
   ]
  },
  {
   "cell_type": "code",
   "execution_count": 27,
   "id": "a7686ebc-c430-494d-b907-76f02d6845d3",
   "metadata": {
    "execution": {
     "iopub.execute_input": "2022-02-24T17:09:24.213487Z",
     "iopub.status.busy": "2022-02-24T17:09:24.213336Z",
     "iopub.status.idle": "2022-02-24T17:09:24.220990Z",
     "shell.execute_reply": "2022-02-24T17:09:24.220552Z",
     "shell.execute_reply.started": "2022-02-24T17:09:24.213469Z"
    },
    "tags": []
   },
   "outputs": [
    {
     "data": {
      "text/plain": [
       "['rumor',\n",
       " 'hate',\n",
       " 'unreliable',\n",
       " 'conspiracy',\n",
       " 'clickbait',\n",
       " 'satire',\n",
       " 'fake',\n",
       " 'reliable',\n",
       " 'bias',\n",
       " 'political',\n",
       " 'junksci',\n",
       " nan,\n",
       " 'unknown',\n",
       " '2018-02-02 01:19:41.756664']"
      ]
     },
     "execution_count": 27,
     "metadata": {},
     "output_type": "execute_result"
    }
   ],
   "source": [
    "tmp_df[\"type\"].unique().tolist()"
   ]
  },
  {
   "cell_type": "code",
   "execution_count": 28,
   "id": "c34edaf0-164e-47b8-99bb-3f3e2fb79604",
   "metadata": {
    "execution": {
     "iopub.execute_input": "2022-02-24T17:09:24.221732Z",
     "iopub.status.busy": "2022-02-24T17:09:24.221584Z",
     "iopub.status.idle": "2022-02-24T17:09:24.229198Z",
     "shell.execute_reply": "2022-02-24T17:09:24.228766Z",
     "shell.execute_reply.started": "2022-02-24T17:09:24.221715Z"
    },
    "tags": []
   },
   "outputs": [
    {
     "data": {
      "text/plain": [
       "['rumor',\n",
       " 'hate',\n",
       " 'unreliable',\n",
       " 'conspiracy',\n",
       " 'clickbait',\n",
       " 'satire',\n",
       " 'fake',\n",
       " 'reliable',\n",
       " 'bias',\n",
       " 'political',\n",
       " 'junksci',\n",
       " nan,\n",
       " 'unknown']"
      ]
     },
     "execution_count": 28,
     "metadata": {},
     "output_type": "execute_result"
    }
   ],
   "source": [
    "categorical_types = [i for i in tmp_df[\"type\"].unique().tolist() if i != '2018-02-02 01:19:41.756664']\n",
    "categorical_types"
   ]
  },
  {
   "cell_type": "code",
   "execution_count": 29,
   "id": "9f7661f6-071c-48c9-bec9-f2cec3bed79d",
   "metadata": {
    "execution": {
     "iopub.execute_input": "2022-02-24T17:09:24.229943Z",
     "iopub.status.busy": "2022-02-24T17:09:24.229792Z",
     "iopub.status.idle": "2022-02-24T17:09:24.232007Z",
     "shell.execute_reply": "2022-02-24T17:09:24.231586Z",
     "shell.execute_reply.started": "2022-02-24T17:09:24.229926Z"
    },
    "tags": []
   },
   "outputs": [],
   "source": [
    "del tmp_df"
   ]
  },
  {
   "cell_type": "markdown",
   "id": "7ce5cbac-9b96-482c-bf77-b606d2ddd8be",
   "metadata": {},
   "source": [
    "Here is how I am dealing with that:\n",
    "\n",
    "1. Read the CSV in batches of 1 million lines \n",
    "2. After reading a batch, check if there is a problematic line.\n",
    "3. If Yes:\n",
    "   - keep only the initial part of the back (up until the problematic line).\n",
    "   - Set the starting point of the new batch to one line after the problematic line.\n",
    "4. If No:\n",
    "   - Save the entire batch\n",
    "   - Set the starting point of the new batch to one line after the current batch"
   ]
  },
  {
   "cell_type": "markdown",
   "id": "7291f9d1-f62d-49ae-89cf-3dd27b597b94",
   "metadata": {},
   "source": [
    "## Pre-processing functions"
   ]
  },
  {
   "cell_type": "code",
   "execution_count": 30,
   "id": "a73e6608-eb92-4a4e-91fa-a94b9014bb84",
   "metadata": {
    "execution": {
     "iopub.execute_input": "2022-02-24T17:09:24.232745Z",
     "iopub.status.busy": "2022-02-24T17:09:24.232598Z",
     "iopub.status.idle": "2022-02-24T17:09:24.236558Z",
     "shell.execute_reply": "2022-02-24T17:09:24.236114Z",
     "shell.execute_reply.started": "2022-02-24T17:09:24.232729Z"
    },
    "tags": []
   },
   "outputs": [],
   "source": [
    "def find_problematic_line(tmp_df):\n",
    "    problematic_line = None\n",
    "    for row in tmp_df[\"type\"].iteritems():\n",
    "        if not row[1] in categorical_types:\n",
    "            problematic_line = row[0]\n",
    "            print(row)\n",
    "            break\n",
    "    return problematic_line\n",
    "\n",
    "def read_batch_csv(dataset_path, batch_size, previous_batch_idx=1):\n",
    "    print(f\"read_batch_csv with params: (batch_size: {batch_size}, previous_batch_idx: {previous_batch_idx})\")\n",
    "    tmp_df = pd.read_csv(dataset_path, \n",
    "                         skiprows=range(1, previous_batch_idx),\n",
    "                         nrows=batch_size,\n",
    "                         dtype=map_dtypes, \n",
    "                         parse_dates=[\"scraped_at\", \"inserted_at\", \"updated_at\"],\n",
    "                         engine='python')\n",
    "    return tmp_df\n"
   ]
  },
  {
   "cell_type": "markdown",
   "id": "eafeb1b6-d94c-48a2-a1cf-f9aad873d0ed",
   "metadata": {},
   "source": [
    "## Pre-processing script"
   ]
  },
  {
   "cell_type": "code",
   "execution_count": 31,
   "id": "4de773a1-01ae-415a-a75d-0eb47fde2d38",
   "metadata": {
    "execution": {
     "iopub.execute_input": "2022-02-24T17:09:24.237707Z",
     "iopub.status.busy": "2022-02-24T17:09:24.237548Z",
     "iopub.status.idle": "2022-02-24T17:09:24.241035Z",
     "shell.execute_reply": "2022-02-24T17:09:24.240593Z",
     "shell.execute_reply.started": "2022-02-24T17:09:24.237690Z"
    },
    "tags": []
   },
   "outputs": [],
   "source": [
    "import traceback\n",
    "\n",
    "def get_traceback(e):\n",
    "    lines = traceback.format_exception(type(e), e, e.__traceback__)\n",
    "    return ''.join(lines)"
   ]
  },
  {
   "cell_type": "code",
   "execution_count": 32,
   "id": "fa44fe70-dbbb-46fa-b0b5-173c1064bca2",
   "metadata": {
    "execution": {
     "iopub.execute_input": "2022-02-24T17:09:24.241841Z",
     "iopub.status.busy": "2022-02-24T17:09:24.241693Z",
     "iopub.status.idle": "2022-02-24T17:09:24.245457Z",
     "shell.execute_reply": "2022-02-24T17:09:24.245039Z",
     "shell.execute_reply.started": "2022-02-24T17:09:24.241824Z"
    },
    "tags": []
   },
   "outputs": [
    {
     "data": {
      "text/plain": [
       "9223372036854775807"
      ]
     },
     "execution_count": 32,
     "metadata": {},
     "output_type": "execute_result"
    }
   ],
   "source": [
    "import sys, ctypes as ct\n",
    "\n",
    "import csv\n",
    "\n",
    "csv.field_size_limit(sys.maxsize)"
   ]
  },
  {
   "cell_type": "code",
   "execution_count": 33,
   "id": "925b1ccc-21c0-4f7b-b37c-1b60d2a2a13d",
   "metadata": {
    "collapsed": true,
    "execution": {
     "iopub.execute_input": "2022-02-24T17:09:29.585805Z",
     "iopub.status.busy": "2022-02-24T17:09:29.585578Z",
     "iopub.status.idle": "2022-02-24T17:50:50.797707Z",
     "shell.execute_reply": "2022-02-24T17:50:50.796841Z",
     "shell.execute_reply.started": "2022-02-24T17:09:29.585782Z"
    },
    "jupyter": {
     "outputs_hidden": true
    },
    "tags": []
   },
   "outputs": [
    {
     "name": "stdout",
     "output_type": "stream",
     "text": [
      "read_batch_csv with params: (batch_size: 3000000, previous_batch_idx: 1)\n",
      "read_batch_csv with params: (batch_size: 3000000, previous_batch_idx: 3000000)\n",
      "read_batch_csv with params: (batch_size: 3000000, previous_batch_idx: 5999999)\n",
      "(653033, '2018-02-10 13:43:39.521661')\n",
      "There was a problematic line: 653033\n",
      "read_batch_csv with params: (batch_size: 3000000, previous_batch_idx: 6653031)\n",
      "(6, '2018-02-10 13:43:39.521661')\n",
      "There was a problematic line: 6\n",
      "read_batch_csv with params: (batch_size: 3000000, previous_batch_idx: 6653036)\n",
      "(1, '2018-02-10 13:43:39.521661')\n",
      "There was a problematic line: 1\n",
      "read_batch_csv with params: (batch_size: 3000000, previous_batch_idx: 6653036)\n",
      "(1, '2018-02-10 13:43:39.521661')\n",
      "There was a problematic line: 1\n",
      "read_batch_csv with params: (batch_size: 3000000, previous_batch_idx: 6653036)\n"
     ]
    },
    {
     "ename": "KeyboardInterrupt",
     "evalue": "",
     "output_type": "error",
     "traceback": [
      "\u001b[0;31m---------------------------------------------------------------------------\u001b[0m",
      "\u001b[0;31mKeyboardInterrupt\u001b[0m                         Traceback (most recent call last)",
      "\u001b[0;32m<ipython-input-33-9a973a06fae9>\u001b[0m in \u001b[0;36m<module>\u001b[0;34m\u001b[0m\n\u001b[1;32m     13\u001b[0m \u001b[0;34m\u001b[0m\u001b[0m\n\u001b[1;32m     14\u001b[0m     \u001b[0;32mtry\u001b[0m\u001b[0;34m:\u001b[0m\u001b[0;34m\u001b[0m\u001b[0;34m\u001b[0m\u001b[0m\n\u001b[0;32m---> 15\u001b[0;31m         \u001b[0mtmp_df\u001b[0m \u001b[0;34m=\u001b[0m \u001b[0mread_batch_csv\u001b[0m\u001b[0;34m(\u001b[0m\u001b[0mDATASET_PATH\u001b[0m\u001b[0;34m,\u001b[0m \u001b[0mbatch_size\u001b[0m\u001b[0;34m,\u001b[0m \u001b[0mprevious_batch_idx\u001b[0m\u001b[0;34m)\u001b[0m\u001b[0;34m\u001b[0m\u001b[0;34m\u001b[0m\u001b[0m\n\u001b[0m\u001b[1;32m     16\u001b[0m \u001b[0;34m\u001b[0m\u001b[0m\n\u001b[1;32m     17\u001b[0m         \u001b[0;32mif\u001b[0m \u001b[0mtmp_df\u001b[0m\u001b[0;34m.\u001b[0m\u001b[0mempty\u001b[0m\u001b[0;34m:\u001b[0m\u001b[0;34m\u001b[0m\u001b[0;34m\u001b[0m\u001b[0m\n",
      "\u001b[0;32m<ipython-input-30-88fa143208fd>\u001b[0m in \u001b[0;36mread_batch_csv\u001b[0;34m(dataset_path, batch_size, previous_batch_idx)\u001b[0m\n\u001b[1;32m     10\u001b[0m \u001b[0;32mdef\u001b[0m \u001b[0mread_batch_csv\u001b[0m\u001b[0;34m(\u001b[0m\u001b[0mdataset_path\u001b[0m\u001b[0;34m,\u001b[0m \u001b[0mbatch_size\u001b[0m\u001b[0;34m,\u001b[0m \u001b[0mprevious_batch_idx\u001b[0m\u001b[0;34m=\u001b[0m\u001b[0;36m1\u001b[0m\u001b[0;34m)\u001b[0m\u001b[0;34m:\u001b[0m\u001b[0;34m\u001b[0m\u001b[0;34m\u001b[0m\u001b[0m\n\u001b[1;32m     11\u001b[0m     \u001b[0mprint\u001b[0m\u001b[0;34m(\u001b[0m\u001b[0;34mf\"read_batch_csv with params: (batch_size: {batch_size}, previous_batch_idx: {previous_batch_idx})\"\u001b[0m\u001b[0;34m)\u001b[0m\u001b[0;34m\u001b[0m\u001b[0;34m\u001b[0m\u001b[0m\n\u001b[0;32m---> 12\u001b[0;31m     tmp_df = pd.read_csv(dataset_path, \n\u001b[0m\u001b[1;32m     13\u001b[0m                          \u001b[0mskiprows\u001b[0m\u001b[0;34m=\u001b[0m\u001b[0mrange\u001b[0m\u001b[0;34m(\u001b[0m\u001b[0;36m1\u001b[0m\u001b[0;34m,\u001b[0m \u001b[0mprevious_batch_idx\u001b[0m\u001b[0;34m)\u001b[0m\u001b[0;34m,\u001b[0m\u001b[0;34m\u001b[0m\u001b[0;34m\u001b[0m\u001b[0m\n\u001b[1;32m     14\u001b[0m                          \u001b[0mnrows\u001b[0m\u001b[0;34m=\u001b[0m\u001b[0mbatch_size\u001b[0m\u001b[0;34m,\u001b[0m\u001b[0;34m\u001b[0m\u001b[0;34m\u001b[0m\u001b[0m\n",
      "\u001b[0;32m/opt/conda/lib/python3.8/site-packages/pandas/util/_decorators.py\u001b[0m in \u001b[0;36mwrapper\u001b[0;34m(*args, **kwargs)\u001b[0m\n\u001b[1;32m    309\u001b[0m                     \u001b[0mstacklevel\u001b[0m\u001b[0;34m=\u001b[0m\u001b[0mstacklevel\u001b[0m\u001b[0;34m,\u001b[0m\u001b[0;34m\u001b[0m\u001b[0;34m\u001b[0m\u001b[0m\n\u001b[1;32m    310\u001b[0m                 )\n\u001b[0;32m--> 311\u001b[0;31m             \u001b[0;32mreturn\u001b[0m \u001b[0mfunc\u001b[0m\u001b[0;34m(\u001b[0m\u001b[0;34m*\u001b[0m\u001b[0margs\u001b[0m\u001b[0;34m,\u001b[0m \u001b[0;34m**\u001b[0m\u001b[0mkwargs\u001b[0m\u001b[0;34m)\u001b[0m\u001b[0;34m\u001b[0m\u001b[0;34m\u001b[0m\u001b[0m\n\u001b[0m\u001b[1;32m    312\u001b[0m \u001b[0;34m\u001b[0m\u001b[0m\n\u001b[1;32m    313\u001b[0m         \u001b[0;32mreturn\u001b[0m \u001b[0mwrapper\u001b[0m\u001b[0;34m\u001b[0m\u001b[0;34m\u001b[0m\u001b[0m\n",
      "\u001b[0;32m/opt/conda/lib/python3.8/site-packages/pandas/io/parsers/readers.py\u001b[0m in \u001b[0;36mread_csv\u001b[0;34m(filepath_or_buffer, sep, delimiter, header, names, index_col, usecols, squeeze, prefix, mangle_dupe_cols, dtype, engine, converters, true_values, false_values, skipinitialspace, skiprows, skipfooter, nrows, na_values, keep_default_na, na_filter, verbose, skip_blank_lines, parse_dates, infer_datetime_format, keep_date_col, date_parser, dayfirst, cache_dates, iterator, chunksize, compression, thousands, decimal, lineterminator, quotechar, quoting, doublequote, escapechar, comment, encoding, encoding_errors, dialect, error_bad_lines, warn_bad_lines, on_bad_lines, delim_whitespace, low_memory, memory_map, float_precision, storage_options)\u001b[0m\n\u001b[1;32m    584\u001b[0m     \u001b[0mkwds\u001b[0m\u001b[0;34m.\u001b[0m\u001b[0mupdate\u001b[0m\u001b[0;34m(\u001b[0m\u001b[0mkwds_defaults\u001b[0m\u001b[0;34m)\u001b[0m\u001b[0;34m\u001b[0m\u001b[0;34m\u001b[0m\u001b[0m\n\u001b[1;32m    585\u001b[0m \u001b[0;34m\u001b[0m\u001b[0m\n\u001b[0;32m--> 586\u001b[0;31m     \u001b[0;32mreturn\u001b[0m \u001b[0m_read\u001b[0m\u001b[0;34m(\u001b[0m\u001b[0mfilepath_or_buffer\u001b[0m\u001b[0;34m,\u001b[0m \u001b[0mkwds\u001b[0m\u001b[0;34m)\u001b[0m\u001b[0;34m\u001b[0m\u001b[0;34m\u001b[0m\u001b[0m\n\u001b[0m\u001b[1;32m    587\u001b[0m \u001b[0;34m\u001b[0m\u001b[0m\n\u001b[1;32m    588\u001b[0m \u001b[0;34m\u001b[0m\u001b[0m\n",
      "\u001b[0;32m/opt/conda/lib/python3.8/site-packages/pandas/io/parsers/readers.py\u001b[0m in \u001b[0;36m_read\u001b[0;34m(filepath_or_buffer, kwds)\u001b[0m\n\u001b[1;32m    486\u001b[0m \u001b[0;34m\u001b[0m\u001b[0m\n\u001b[1;32m    487\u001b[0m     \u001b[0;32mwith\u001b[0m \u001b[0mparser\u001b[0m\u001b[0;34m:\u001b[0m\u001b[0;34m\u001b[0m\u001b[0;34m\u001b[0m\u001b[0m\n\u001b[0;32m--> 488\u001b[0;31m         \u001b[0;32mreturn\u001b[0m \u001b[0mparser\u001b[0m\u001b[0;34m.\u001b[0m\u001b[0mread\u001b[0m\u001b[0;34m(\u001b[0m\u001b[0mnrows\u001b[0m\u001b[0;34m)\u001b[0m\u001b[0;34m\u001b[0m\u001b[0;34m\u001b[0m\u001b[0m\n\u001b[0m\u001b[1;32m    489\u001b[0m \u001b[0;34m\u001b[0m\u001b[0m\n\u001b[1;32m    490\u001b[0m \u001b[0;34m\u001b[0m\u001b[0m\n",
      "\u001b[0;32m/opt/conda/lib/python3.8/site-packages/pandas/io/parsers/readers.py\u001b[0m in \u001b[0;36mread\u001b[0;34m(self, nrows)\u001b[0m\n\u001b[1;32m   1045\u001b[0m     \u001b[0;32mdef\u001b[0m \u001b[0mread\u001b[0m\u001b[0;34m(\u001b[0m\u001b[0mself\u001b[0m\u001b[0;34m,\u001b[0m \u001b[0mnrows\u001b[0m\u001b[0;34m=\u001b[0m\u001b[0;32mNone\u001b[0m\u001b[0;34m)\u001b[0m\u001b[0;34m:\u001b[0m\u001b[0;34m\u001b[0m\u001b[0;34m\u001b[0m\u001b[0m\n\u001b[1;32m   1046\u001b[0m         \u001b[0mnrows\u001b[0m \u001b[0;34m=\u001b[0m \u001b[0mvalidate_integer\u001b[0m\u001b[0;34m(\u001b[0m\u001b[0;34m\"nrows\"\u001b[0m\u001b[0;34m,\u001b[0m \u001b[0mnrows\u001b[0m\u001b[0;34m)\u001b[0m\u001b[0;34m\u001b[0m\u001b[0;34m\u001b[0m\u001b[0m\n\u001b[0;32m-> 1047\u001b[0;31m         \u001b[0mindex\u001b[0m\u001b[0;34m,\u001b[0m \u001b[0mcolumns\u001b[0m\u001b[0;34m,\u001b[0m \u001b[0mcol_dict\u001b[0m \u001b[0;34m=\u001b[0m \u001b[0mself\u001b[0m\u001b[0;34m.\u001b[0m\u001b[0m_engine\u001b[0m\u001b[0;34m.\u001b[0m\u001b[0mread\u001b[0m\u001b[0;34m(\u001b[0m\u001b[0mnrows\u001b[0m\u001b[0;34m)\u001b[0m\u001b[0;34m\u001b[0m\u001b[0;34m\u001b[0m\u001b[0m\n\u001b[0m\u001b[1;32m   1048\u001b[0m \u001b[0;34m\u001b[0m\u001b[0m\n\u001b[1;32m   1049\u001b[0m         \u001b[0;32mif\u001b[0m \u001b[0mindex\u001b[0m \u001b[0;32mis\u001b[0m \u001b[0;32mNone\u001b[0m\u001b[0;34m:\u001b[0m\u001b[0;34m\u001b[0m\u001b[0;34m\u001b[0m\u001b[0m\n",
      "\u001b[0;32m/opt/conda/lib/python3.8/site-packages/pandas/io/parsers/python_parser.py\u001b[0m in \u001b[0;36mread\u001b[0;34m(self, rows)\u001b[0m\n\u001b[1;32m    243\u001b[0m     \u001b[0;32mdef\u001b[0m \u001b[0mread\u001b[0m\u001b[0;34m(\u001b[0m\u001b[0mself\u001b[0m\u001b[0;34m,\u001b[0m \u001b[0mrows\u001b[0m\u001b[0;34m=\u001b[0m\u001b[0;32mNone\u001b[0m\u001b[0;34m)\u001b[0m\u001b[0;34m:\u001b[0m\u001b[0;34m\u001b[0m\u001b[0;34m\u001b[0m\u001b[0m\n\u001b[1;32m    244\u001b[0m         \u001b[0;32mtry\u001b[0m\u001b[0;34m:\u001b[0m\u001b[0;34m\u001b[0m\u001b[0;34m\u001b[0m\u001b[0m\n\u001b[0;32m--> 245\u001b[0;31m             \u001b[0mcontent\u001b[0m \u001b[0;34m=\u001b[0m \u001b[0mself\u001b[0m\u001b[0;34m.\u001b[0m\u001b[0m_get_lines\u001b[0m\u001b[0;34m(\u001b[0m\u001b[0mrows\u001b[0m\u001b[0;34m)\u001b[0m\u001b[0;34m\u001b[0m\u001b[0;34m\u001b[0m\u001b[0m\n\u001b[0m\u001b[1;32m    246\u001b[0m         \u001b[0;32mexcept\u001b[0m \u001b[0mStopIteration\u001b[0m\u001b[0;34m:\u001b[0m\u001b[0;34m\u001b[0m\u001b[0;34m\u001b[0m\u001b[0m\n\u001b[1;32m    247\u001b[0m             \u001b[0;32mif\u001b[0m \u001b[0mself\u001b[0m\u001b[0;34m.\u001b[0m\u001b[0m_first_chunk\u001b[0m\u001b[0;34m:\u001b[0m\u001b[0;34m\u001b[0m\u001b[0;34m\u001b[0m\u001b[0m\n",
      "\u001b[0;32m/opt/conda/lib/python3.8/site-packages/pandas/io/parsers/python_parser.py\u001b[0m in \u001b[0;36m_get_lines\u001b[0;34m(self, rows)\u001b[0m\n\u001b[1;32m   1047\u001b[0m                             \u001b[0;31m# error in next\u001b[0m\u001b[0;34m\u001b[0m\u001b[0;34m\u001b[0m\u001b[0;34m\u001b[0m\u001b[0m\n\u001b[1;32m   1048\u001b[0m                             \u001b[0;32massert\u001b[0m \u001b[0mself\u001b[0m\u001b[0;34m.\u001b[0m\u001b[0mdata\u001b[0m \u001b[0;32mis\u001b[0m \u001b[0;32mnot\u001b[0m \u001b[0;32mNone\u001b[0m\u001b[0;34m\u001b[0m\u001b[0;34m\u001b[0m\u001b[0m\n\u001b[0;32m-> 1049\u001b[0;31m                             \u001b[0mnew_rows\u001b[0m\u001b[0;34m.\u001b[0m\u001b[0mappend\u001b[0m\u001b[0;34m(\u001b[0m\u001b[0mnext\u001b[0m\u001b[0;34m(\u001b[0m\u001b[0mself\u001b[0m\u001b[0;34m.\u001b[0m\u001b[0mdata\u001b[0m\u001b[0;34m)\u001b[0m\u001b[0;34m)\u001b[0m\u001b[0;34m\u001b[0m\u001b[0;34m\u001b[0m\u001b[0m\n\u001b[0m\u001b[1;32m   1050\u001b[0m                         \u001b[0mlines\u001b[0m\u001b[0;34m.\u001b[0m\u001b[0mextend\u001b[0m\u001b[0;34m(\u001b[0m\u001b[0mnew_rows\u001b[0m\u001b[0;34m)\u001b[0m\u001b[0;34m\u001b[0m\u001b[0;34m\u001b[0m\u001b[0m\n\u001b[1;32m   1051\u001b[0m                     \u001b[0;32melse\u001b[0m\u001b[0;34m:\u001b[0m\u001b[0;34m\u001b[0m\u001b[0;34m\u001b[0m\u001b[0m\n",
      "\u001b[0;31mKeyboardInterrupt\u001b[0m: "
     ]
    }
   ],
   "source": [
    "from pandas.errors import ParserError\n",
    "\n",
    "final_df = []\n",
    "\n",
    "# There are about 9 million news pieces, so this should ammount to 9 batches IF there were no problematic lines\n",
    "default_batch_size = int(3e6) \n",
    "finished_reading = False\n",
    "\n",
    "previous_batch_idx = 1\n",
    "batch_size = default_batch_size\n",
    "\n",
    "while not finished_reading:\n",
    "    \n",
    "    try:\n",
    "        tmp_df = read_batch_csv(DATASET_PATH, batch_size, previous_batch_idx)\n",
    "        \n",
    "        if tmp_df.empty:\n",
    "            finished_reading = True\n",
    "            breaktu\n",
    "    \n",
    "        problematic_line = find_problematic_line(tmp_df)\n",
    "        if problematic_line:\n",
    "            print(f\"There was a problematic line: {problematic_line}\")\n",
    "            keep_rows = problematic_line\n",
    "            final_df.append(tmp_df.head(keep_rows))\n",
    "        else:\n",
    "            keep_rows = batch_size\n",
    "            final_df.append(tmp_df)\n",
    "\n",
    "        previous_batch_idx = previous_batch_idx + keep_rows\n",
    "        \n",
    "    except Exception as e:\n",
    "        print(get_tracebackck(e))\n",
    "        print(\"Ops\")\n",
    "        previous_batch_idx += 100\n",
    "        continue # Repeat batch\n",
    "        "
   ]
  },
  {
   "cell_type": "code",
   "execution_count": 34,
   "id": "c064dd45-0160-4254-8cbd-fbb0c523bb40",
   "metadata": {
    "execution": {
     "iopub.execute_input": "2022-02-24T17:50:58.472641Z",
     "iopub.status.busy": "2022-02-24T17:50:58.472406Z",
     "iopub.status.idle": "2022-02-24T17:51:03.578238Z",
     "shell.execute_reply": "2022-02-24T17:51:03.577168Z",
     "shell.execute_reply.started": "2022-02-24T17:50:58.472616Z"
    },
    "tags": []
   },
   "outputs": [],
   "source": [
    "df = pd.concat(final_df)"
   ]
  },
  {
   "cell_type": "code",
   "execution_count": 35,
   "id": "a67f721d-f1b7-4bcd-b8f5-856fdb2d6585",
   "metadata": {
    "execution": {
     "iopub.execute_input": "2022-02-24T17:51:03.579364Z",
     "iopub.status.busy": "2022-02-24T17:51:03.579162Z",
     "iopub.status.idle": "2022-02-24T17:51:03.581704Z",
     "shell.execute_reply": "2022-02-24T17:51:03.581262Z",
     "shell.execute_reply.started": "2022-02-24T17:51:03.579343Z"
    },
    "tags": []
   },
   "outputs": [],
   "source": [
    "del final_df"
   ]
  },
  {
   "cell_type": "code",
   "execution_count": 36,
   "id": "ba352516-1995-4766-b413-08eee1b4ad22",
   "metadata": {
    "execution": {
     "iopub.execute_input": "2022-02-24T17:51:03.582731Z",
     "iopub.status.busy": "2022-02-24T17:51:03.582577Z",
     "iopub.status.idle": "2022-02-24T17:51:03.586036Z",
     "shell.execute_reply": "2022-02-24T17:51:03.585610Z",
     "shell.execute_reply.started": "2022-02-24T17:51:03.582713Z"
    },
    "tags": []
   },
   "outputs": [
    {
     "data": {
      "text/plain": [
       "(6652942, 17)"
      ]
     },
     "execution_count": 36,
     "metadata": {},
     "output_type": "execute_result"
    }
   ],
   "source": [
    "df.shape"
   ]
  },
  {
   "cell_type": "code",
   "execution_count": null,
   "id": "8a312c09-0325-48c6-b6bf-100eda754740",
   "metadata": {},
   "outputs": [],
   "source": [
    "# url = 'http://rinf.com/alt-news/newswire/taking-the-war-out-of-warsaw/'\n",
    "# url = 'https://www.redstate.com/diary/redtillimdead/2009/06/29/the-seemingly-impossible-taking-back-the-senate-in-2010/'\n",
    "\n",
    "# getout = 0\n",
    "# with open(\"../data/FakeNews/news_cleaned_2018_02_13.csv\") as f:\n",
    "#     for i, line in enumerate(f):\n",
    "#         if url in line:\n",
    "#             print(i)\n",
    "#             print(line)\n",
    "#             break\n",
    "\n",
    "# The 71833th line is malformed. The simplest way I found to get rid of it was to simply parse the CSV in a few batches\n",
    "# df = pd.concat([\n",
    "#     pd.read_csv(\"../data/FakeNews/news_cleaned_2018_02_13.csv\", \n",
    "#                 nrows=718362, \n",
    "#                 dtype=map_dtypes, \n",
    "#                 parse_dates=[\"scraped_at\", \"inserted_at\", \"updated_at\"]),\n",
    "#     pd.read_csv(\"../data/FakeNews/news_cleaned_2018_02_13.csv\", \n",
    "#                 skiprows=range(1,718362),\n",
    "#                 nrows=1e6,\n",
    "#                 dtype=map_dtypes, \n",
    "#                 parse_dates=[\"scraped_at\", \"inserted_at\", \"updated_at\"]),\n",
    "#     pd.read_csv(\"../data/FakeNews/news_cleaned_2018_02_13.csv\", \n",
    "#                     skiprows=range(1, int(1e6 + 718362)),\n",
    "#                     nrows=1e6,\n",
    "#                     dtype=map_dtypes, \n",
    "#                     parse_dates=[\"scraped_at\", \"inserted_at\", \"updated_at\"])])"
   ]
  },
  {
   "cell_type": "markdown",
   "id": "f4696463",
   "metadata": {
    "tags": []
   },
   "source": [
    "# Initial Exploration of the Dataset\n",
    "\n",
    "Let us look at a sample of this dataset first:"
   ]
  },
  {
   "cell_type": "code",
   "execution_count": 38,
   "id": "6c5d516d-a3e5-48db-81a0-a8099452fa55",
   "metadata": {
    "execution": {
     "iopub.execute_input": "2022-02-24T17:51:23.897543Z",
     "iopub.status.busy": "2022-02-24T17:51:23.897317Z",
     "iopub.status.idle": "2022-02-24T17:51:30.724431Z",
     "shell.execute_reply": "2022-02-24T17:51:30.723876Z",
     "shell.execute_reply.started": "2022-02-24T17:51:23.897521Z"
    },
    "tags": []
   },
   "outputs": [
    {
     "data": {
      "text/plain": [
       "(6652942, 16)"
      ]
     },
     "execution_count": 38,
     "metadata": {},
     "output_type": "execute_result"
    }
   ],
   "source": [
    "df.drop(columns=\"Unnamed: 0\", inplace=True)\n",
    "df.shape"
   ]
  },
  {
   "cell_type": "code",
   "execution_count": 39,
   "id": "4ee495d6-e759-4de9-98f3-1c39e9fbd866",
   "metadata": {
    "execution": {
     "iopub.execute_input": "2022-02-24T17:51:30.725519Z",
     "iopub.status.busy": "2022-02-24T17:51:30.725348Z",
     "iopub.status.idle": "2022-02-24T17:51:30.738252Z",
     "shell.execute_reply": "2022-02-24T17:51:30.737798Z",
     "shell.execute_reply.started": "2022-02-24T17:51:30.725500Z"
    },
    "tags": []
   },
   "outputs": [
    {
     "data": {
      "text/html": [
       "<div>\n",
       "<style scoped>\n",
       "    .dataframe tbody tr th:only-of-type {\n",
       "        vertical-align: middle;\n",
       "    }\n",
       "\n",
       "    .dataframe tbody tr th {\n",
       "        vertical-align: top;\n",
       "    }\n",
       "\n",
       "    .dataframe thead th {\n",
       "        text-align: right;\n",
       "    }\n",
       "</style>\n",
       "<table border=\"1\" class=\"dataframe\">\n",
       "  <thead>\n",
       "    <tr style=\"text-align: right;\">\n",
       "      <th></th>\n",
       "      <th>id</th>\n",
       "      <th>domain</th>\n",
       "      <th>type</th>\n",
       "      <th>url</th>\n",
       "      <th>content</th>\n",
       "      <th>scraped_at</th>\n",
       "      <th>inserted_at</th>\n",
       "      <th>updated_at</th>\n",
       "      <th>title</th>\n",
       "      <th>authors</th>\n",
       "      <th>keywords</th>\n",
       "      <th>meta_keywords</th>\n",
       "      <th>meta_description</th>\n",
       "      <th>tags</th>\n",
       "      <th>summary</th>\n",
       "      <th>source</th>\n",
       "    </tr>\n",
       "  </thead>\n",
       "  <tbody>\n",
       "    <tr>\n",
       "      <th>0</th>\n",
       "      <td>2</td>\n",
       "      <td>express.co.uk</td>\n",
       "      <td>rumor</td>\n",
       "      <td>https://www.express.co.uk/news/science/738402/...</td>\n",
       "      <td>Life is an illusion, at least on a quantum lev...</td>\n",
       "      <td>2018-01-25 16:17:44.789555</td>\n",
       "      <td>2018-02-02 01:19:41.756632</td>\n",
       "      <td>2018-02-02 01:19:41.756664</td>\n",
       "      <td>Is life an ILLUSION? Researchers prove 'realit...</td>\n",
       "      <td>Sean Martin</td>\n",
       "      <td>NaN</td>\n",
       "      <td>['']</td>\n",
       "      <td>THE UNIVERSE ceases to exist when we are not l...</td>\n",
       "      <td>NaN</td>\n",
       "      <td>NaN</td>\n",
       "      <td>NaN</td>\n",
       "    </tr>\n",
       "    <tr>\n",
       "      <th>1</th>\n",
       "      <td>6</td>\n",
       "      <td>barenakedislam.com</td>\n",
       "      <td>hate</td>\n",
       "      <td>http://barenakedislam.com/category/donald-trum...</td>\n",
       "      <td>Unfortunately, he hasn’t yet attacked her for ...</td>\n",
       "      <td>2018-01-25 16:17:44.789555</td>\n",
       "      <td>2018-02-02 01:19:41.756632</td>\n",
       "      <td>2018-02-02 01:19:41.756664</td>\n",
       "      <td>Donald Trump</td>\n",
       "      <td>Linda Rivera, Conrad Calvano, Az Gal, Lincoln ...</td>\n",
       "      <td>NaN</td>\n",
       "      <td>['']</td>\n",
       "      <td>NaN</td>\n",
       "      <td>NaN</td>\n",
       "      <td>NaN</td>\n",
       "      <td>NaN</td>\n",
       "    </tr>\n",
       "    <tr>\n",
       "      <th>2</th>\n",
       "      <td>7</td>\n",
       "      <td>barenakedislam.com</td>\n",
       "      <td>hate</td>\n",
       "      <td>http://barenakedislam.com/category/donald-trum...</td>\n",
       "      <td>The Los Angeles Police Department has been den...</td>\n",
       "      <td>2018-01-25 16:17:44.789555</td>\n",
       "      <td>2018-02-02 01:19:41.756632</td>\n",
       "      <td>2018-02-02 01:19:41.756664</td>\n",
       "      <td>Donald Trump</td>\n",
       "      <td>Linda Rivera, Conrad Calvano, Az Gal, Lincoln ...</td>\n",
       "      <td>NaN</td>\n",
       "      <td>['']</td>\n",
       "      <td>NaN</td>\n",
       "      <td>NaN</td>\n",
       "      <td>NaN</td>\n",
       "      <td>NaN</td>\n",
       "    </tr>\n",
       "    <tr>\n",
       "      <th>3</th>\n",
       "      <td>8</td>\n",
       "      <td>barenakedislam.com</td>\n",
       "      <td>hate</td>\n",
       "      <td>http://barenakedislam.com/2017/12/24/more-winn...</td>\n",
       "      <td>The White House has decided to quietly withdra...</td>\n",
       "      <td>2018-01-25 16:17:44.789555</td>\n",
       "      <td>2018-02-02 01:19:41.756632</td>\n",
       "      <td>2018-02-02 01:19:41.756664</td>\n",
       "      <td>MORE WINNING! Israeli intelligence source, DEB...</td>\n",
       "      <td>Cleavis Nowell, Cleavisnowell, Clarence J. Fei...</td>\n",
       "      <td>NaN</td>\n",
       "      <td>['']</td>\n",
       "      <td>NaN</td>\n",
       "      <td>NaN</td>\n",
       "      <td>NaN</td>\n",
       "      <td>NaN</td>\n",
       "    </tr>\n",
       "    <tr>\n",
       "      <th>4</th>\n",
       "      <td>9</td>\n",
       "      <td>barenakedislam.com</td>\n",
       "      <td>hate</td>\n",
       "      <td>http://barenakedislam.com/2017/12/25/oh-trump-...</td>\n",
       "      <td>“The time has come to cut off the tongues of t...</td>\n",
       "      <td>2018-01-25 16:17:44.789555</td>\n",
       "      <td>2018-02-02 01:19:41.756632</td>\n",
       "      <td>2018-02-02 01:19:41.756664</td>\n",
       "      <td>“Oh, Trump, you coward, you just wait, we will...</td>\n",
       "      <td>F.N. Lehner, Don Spilman, Clarence J. Feinour,...</td>\n",
       "      <td>NaN</td>\n",
       "      <td>['']</td>\n",
       "      <td>NaN</td>\n",
       "      <td>NaN</td>\n",
       "      <td>NaN</td>\n",
       "      <td>NaN</td>\n",
       "    </tr>\n",
       "  </tbody>\n",
       "</table>\n",
       "</div>"
      ],
      "text/plain": [
       "  id              domain   type  \\\n",
       "0  2       express.co.uk  rumor   \n",
       "1  6  barenakedislam.com   hate   \n",
       "2  7  barenakedislam.com   hate   \n",
       "3  8  barenakedislam.com   hate   \n",
       "4  9  barenakedislam.com   hate   \n",
       "\n",
       "                                                 url  \\\n",
       "0  https://www.express.co.uk/news/science/738402/...   \n",
       "1  http://barenakedislam.com/category/donald-trum...   \n",
       "2  http://barenakedislam.com/category/donald-trum...   \n",
       "3  http://barenakedislam.com/2017/12/24/more-winn...   \n",
       "4  http://barenakedislam.com/2017/12/25/oh-trump-...   \n",
       "\n",
       "                                             content  \\\n",
       "0  Life is an illusion, at least on a quantum lev...   \n",
       "1  Unfortunately, he hasn’t yet attacked her for ...   \n",
       "2  The Los Angeles Police Department has been den...   \n",
       "3  The White House has decided to quietly withdra...   \n",
       "4  “The time has come to cut off the tongues of t...   \n",
       "\n",
       "                   scraped_at                 inserted_at  \\\n",
       "0  2018-01-25 16:17:44.789555  2018-02-02 01:19:41.756632   \n",
       "1  2018-01-25 16:17:44.789555  2018-02-02 01:19:41.756632   \n",
       "2  2018-01-25 16:17:44.789555  2018-02-02 01:19:41.756632   \n",
       "3  2018-01-25 16:17:44.789555  2018-02-02 01:19:41.756632   \n",
       "4  2018-01-25 16:17:44.789555  2018-02-02 01:19:41.756632   \n",
       "\n",
       "                   updated_at  \\\n",
       "0  2018-02-02 01:19:41.756664   \n",
       "1  2018-02-02 01:19:41.756664   \n",
       "2  2018-02-02 01:19:41.756664   \n",
       "3  2018-02-02 01:19:41.756664   \n",
       "4  2018-02-02 01:19:41.756664   \n",
       "\n",
       "                                               title  \\\n",
       "0  Is life an ILLUSION? Researchers prove 'realit...   \n",
       "1                                       Donald Trump   \n",
       "2                                       Donald Trump   \n",
       "3  MORE WINNING! Israeli intelligence source, DEB...   \n",
       "4  “Oh, Trump, you coward, you just wait, we will...   \n",
       "\n",
       "                                             authors keywords meta_keywords  \\\n",
       "0                                        Sean Martin      NaN          ['']   \n",
       "1  Linda Rivera, Conrad Calvano, Az Gal, Lincoln ...      NaN          ['']   \n",
       "2  Linda Rivera, Conrad Calvano, Az Gal, Lincoln ...      NaN          ['']   \n",
       "3  Cleavis Nowell, Cleavisnowell, Clarence J. Fei...      NaN          ['']   \n",
       "4  F.N. Lehner, Don Spilman, Clarence J. Feinour,...      NaN          ['']   \n",
       "\n",
       "                                    meta_description tags summary source  \n",
       "0  THE UNIVERSE ceases to exist when we are not l...  NaN     NaN    NaN  \n",
       "1                                                NaN  NaN     NaN    NaN  \n",
       "2                                                NaN  NaN     NaN    NaN  \n",
       "3                                                NaN  NaN     NaN    NaN  \n",
       "4                                                NaN  NaN     NaN    NaN  "
      ]
     },
     "execution_count": 39,
     "metadata": {},
     "output_type": "execute_result"
    }
   ],
   "source": [
    "df.head()"
   ]
  },
  {
   "cell_type": "markdown",
   "id": "523e3b66",
   "metadata": {},
   "source": [
    "## What are the columns?"
   ]
  },
  {
   "cell_type": "code",
   "execution_count": 40,
   "id": "06e81deb",
   "metadata": {
    "execution": {
     "iopub.execute_input": "2022-02-24T17:51:36.159744Z",
     "iopub.status.busy": "2022-02-24T17:51:36.159515Z",
     "iopub.status.idle": "2022-02-24T17:51:36.164505Z",
     "shell.execute_reply": "2022-02-24T17:51:36.164027Z",
     "shell.execute_reply.started": "2022-02-24T17:51:36.159719Z"
    },
    "tags": []
   },
   "outputs": [
    {
     "data": {
      "text/plain": [
       "id                                                                  2\n",
       "domain                                                  express.co.uk\n",
       "type                                                            rumor\n",
       "url                 https://www.express.co.uk/news/science/738402/...\n",
       "content             Life is an illusion, at least on a quantum lev...\n",
       "scraped_at                                 2018-01-25 16:17:44.789555\n",
       "inserted_at                                2018-02-02 01:19:41.756632\n",
       "updated_at                                 2018-02-02 01:19:41.756664\n",
       "title               Is life an ILLUSION? Researchers prove 'realit...\n",
       "authors                                                   Sean Martin\n",
       "keywords                                                          NaN\n",
       "meta_keywords                                                    ['']\n",
       "meta_description    THE UNIVERSE ceases to exist when we are not l...\n",
       "tags                                                              NaN\n",
       "summary                                                           NaN\n",
       "source                                                            NaN\n",
       "Name: 0, dtype: object"
      ]
     },
     "execution_count": 40,
     "metadata": {},
     "output_type": "execute_result"
    }
   ],
   "source": [
    "df.iloc[0]"
   ]
  },
  {
   "cell_type": "markdown",
   "id": "6b9d7700",
   "metadata": {},
   "source": [
    "## What type of news do we have?"
   ]
  },
  {
   "cell_type": "code",
   "execution_count": 41,
   "id": "ca0b0644",
   "metadata": {
    "execution": {
     "iopub.execute_input": "2022-02-24T17:51:38.493603Z",
     "iopub.status.busy": "2022-02-24T17:51:38.493383Z",
     "iopub.status.idle": "2022-02-24T17:51:39.113886Z",
     "shell.execute_reply": "2022-02-24T17:51:39.113401Z",
     "shell.execute_reply.started": "2022-02-24T17:51:38.493580Z"
    },
    "tags": []
   },
   "outputs": [
    {
     "data": {
      "text/html": [
       "<div>\n",
       "<style scoped>\n",
       "    .dataframe tbody tr th:only-of-type {\n",
       "        vertical-align: middle;\n",
       "    }\n",
       "\n",
       "    .dataframe tbody tr th {\n",
       "        vertical-align: top;\n",
       "    }\n",
       "\n",
       "    .dataframe thead th {\n",
       "        text-align: right;\n",
       "    }\n",
       "</style>\n",
       "<table border=\"1\" class=\"dataframe\">\n",
       "  <thead>\n",
       "    <tr style=\"text-align: right;\">\n",
       "      <th></th>\n",
       "      <th>type</th>\n",
       "      <th>pctg</th>\n",
       "    </tr>\n",
       "  </thead>\n",
       "  <tbody>\n",
       "    <tr>\n",
       "      <th>political</th>\n",
       "      <td>1657224</td>\n",
       "      <td>24.91 %</td>\n",
       "    </tr>\n",
       "    <tr>\n",
       "      <th>bias</th>\n",
       "      <td>1138999</td>\n",
       "      <td>17.12 %</td>\n",
       "    </tr>\n",
       "    <tr>\n",
       "      <th>fake</th>\n",
       "      <td>894747</td>\n",
       "      <td>13.45 %</td>\n",
       "    </tr>\n",
       "    <tr>\n",
       "      <th>conspiracy</th>\n",
       "      <td>831235</td>\n",
       "      <td>12.49 %</td>\n",
       "    </tr>\n",
       "    <tr>\n",
       "      <th>rumor</th>\n",
       "      <td>481158</td>\n",
       "      <td>7.23 %</td>\n",
       "    </tr>\n",
       "    <tr>\n",
       "      <th>NaN</th>\n",
       "      <td>403332</td>\n",
       "      <td>6.06 %</td>\n",
       "    </tr>\n",
       "    <tr>\n",
       "      <th>unknown</th>\n",
       "      <td>371518</td>\n",
       "      <td>5.58 %</td>\n",
       "    </tr>\n",
       "    <tr>\n",
       "      <th>unreliable</th>\n",
       "      <td>298784</td>\n",
       "      <td>4.49 %</td>\n",
       "    </tr>\n",
       "    <tr>\n",
       "      <th>clickbait</th>\n",
       "      <td>231949</td>\n",
       "      <td>3.49 %</td>\n",
       "    </tr>\n",
       "    <tr>\n",
       "      <th>junksci</th>\n",
       "      <td>117467</td>\n",
       "      <td>1.77 %</td>\n",
       "    </tr>\n",
       "    <tr>\n",
       "      <th>satire</th>\n",
       "      <td>112948</td>\n",
       "      <td>1.70 %</td>\n",
       "    </tr>\n",
       "    <tr>\n",
       "      <th>hate</th>\n",
       "      <td>76496</td>\n",
       "      <td>1.15 %</td>\n",
       "    </tr>\n",
       "    <tr>\n",
       "      <th>reliable</th>\n",
       "      <td>37085</td>\n",
       "      <td>0.56 %</td>\n",
       "    </tr>\n",
       "  </tbody>\n",
       "</table>\n",
       "</div>"
      ],
      "text/plain": [
       "               type     pctg\n",
       "political   1657224  24.91 %\n",
       "bias        1138999  17.12 %\n",
       "fake         894747  13.45 %\n",
       "conspiracy   831235  12.49 %\n",
       "rumor        481158   7.23 %\n",
       "NaN          403332   6.06 %\n",
       "unknown      371518   5.58 %\n",
       "unreliable   298784   4.49 %\n",
       "clickbait    231949   3.49 %\n",
       "junksci      117467   1.77 %\n",
       "satire       112948   1.70 %\n",
       "hate          76496   1.15 %\n",
       "reliable      37085   0.56 %"
      ]
     },
     "execution_count": 41,
     "metadata": {},
     "output_type": "execute_result"
    }
   ],
   "source": [
    "pd.concat([df[\"type\"].value_counts(dropna=False),\n",
    "           df[\"type\"].value_counts(dropna=False).apply(lambda x: pd.Series({\"pctg\": \"%.2f %%\" % (100*x/df.shape[0])}))],\n",
    "          axis=1)"
   ]
  },
  {
   "cell_type": "markdown",
   "id": "13bcfaaa",
   "metadata": {},
   "source": [
    "### Junk Science \n",
    "\n",
    "**Junk science sounds fun!** Let us have a look at the titles of these so called news:"
   ]
  },
  {
   "cell_type": "code",
   "execution_count": 42,
   "id": "de3436e1",
   "metadata": {
    "execution": {
     "iopub.execute_input": "2022-02-24T17:52:10.543459Z",
     "iopub.status.busy": "2022-02-24T17:52:10.543196Z",
     "iopub.status.idle": "2022-02-24T17:52:11.265165Z",
     "shell.execute_reply": "2022-02-24T17:52:11.264665Z",
     "shell.execute_reply.started": "2022-02-24T17:52:10.543436Z"
    },
    "tags": []
   },
   "outputs": [
    {
     "data": {
      "text/html": [
       "<div>\n",
       "<style scoped>\n",
       "    .dataframe tbody tr th:only-of-type {\n",
       "        vertical-align: middle;\n",
       "    }\n",
       "\n",
       "    .dataframe tbody tr th {\n",
       "        vertical-align: top;\n",
       "    }\n",
       "\n",
       "    .dataframe thead th {\n",
       "        text-align: right;\n",
       "    }\n",
       "</style>\n",
       "<table border=\"1\" class=\"dataframe\">\n",
       "  <thead>\n",
       "    <tr style=\"text-align: right;\">\n",
       "      <th></th>\n",
       "      <th></th>\n",
       "    </tr>\n",
       "    <tr>\n",
       "      <th>domain</th>\n",
       "      <th>title</th>\n",
       "    </tr>\n",
       "  </thead>\n",
       "  <tbody>\n",
       "    <tr>\n",
       "      <th>naturalnews.com</th>\n",
       "      <th>Probiotic-derived treatment could save lives of premature babies</th>\n",
       "    </tr>\n",
       "    <tr>\n",
       "      <th>healthimpactnews.com</th>\n",
       "      <th>Whooping Cough Epidemic Caused by Virulent New Pertussis Strain—And It’s the Result of Vaccine</th>\n",
       "    </tr>\n",
       "    <tr>\n",
       "      <th>naturalnews.com</th>\n",
       "      <th>antibiotic resistance</th>\n",
       "    </tr>\n",
       "    <tr>\n",
       "      <th>naturalnewsblogs.com</th>\n",
       "      <th>foods for smokers Archives</th>\n",
       "    </tr>\n",
       "    <tr>\n",
       "      <th>healthimpactnews.com</th>\n",
       "      <th>Coconut Oil is Beneficial for Your Heart: Shining the Truth on Mainstream Media’s Negative Attacks Against Coconut Oil</th>\n",
       "    </tr>\n",
       "    <tr>\n",
       "      <th>naturalnews.com</th>\n",
       "      <th>Natural diet lowers disease risk after just thirty days, study finds</th>\n",
       "    </tr>\n",
       "    <tr>\n",
       "      <th>naturalnewsblogs.com</th>\n",
       "      <th>healthy morning routine Archives</th>\n",
       "    </tr>\n",
       "    <tr>\n",
       "      <th>naturalnews.com</th>\n",
       "      <th>These are the 45 goals of communism’s takeover of America… more than half have already been achieved</th>\n",
       "    </tr>\n",
       "    <tr>\n",
       "      <th>naturalnewsblogs.com</th>\n",
       "      <th>chickpeas Archives</th>\n",
       "    </tr>\n",
       "    <tr>\n",
       "      <th>realfarmacy.com</th>\n",
       "      <th>Woman's Limp Body Ripped From Car, Handcuffed Face-Down on Street</th>\n",
       "    </tr>\n",
       "  </tbody>\n",
       "</table>\n",
       "</div>"
      ],
      "text/plain": [
       "Empty DataFrame\n",
       "Columns: []\n",
       "Index: [(naturalnews.com, Probiotic-derived treatment could save lives of premature babies), (healthimpactnews.com, Whooping Cough Epidemic Caused by Virulent New Pertussis Strain—And It’s the Result of Vaccine), (naturalnews.com, antibiotic resistance), (naturalnewsblogs.com, foods for smokers Archives), (healthimpactnews.com, Coconut Oil is Beneficial for Your Heart: Shining the Truth on Mainstream Media’s Negative Attacks Against Coconut Oil), (naturalnews.com, Natural diet lowers disease risk after just thirty days, study finds), (naturalnewsblogs.com, healthy morning routine Archives), (naturalnews.com, These are the 45 goals of communism’s takeover of America… more than half have already been achieved), (naturalnewsblogs.com, chickpeas Archives), (realfarmacy.com, Woman's Limp Body Ripped From Car, Handcuffed Face-Down on Street)]"
      ]
     },
     "execution_count": 42,
     "metadata": {},
     "output_type": "execute_result"
    }
   ],
   "source": [
    "df[df[\"type\"] == \"junksci\"].set_index([\"domain\",\"title\"])[[]].sample(n=10, random_state=10)"
   ]
  },
  {
   "cell_type": "markdown",
   "id": "88aece9b",
   "metadata": {},
   "source": [
    "### Fake"
   ]
  },
  {
   "cell_type": "code",
   "execution_count": 43,
   "id": "0505f751",
   "metadata": {
    "execution": {
     "iopub.execute_input": "2022-02-24T17:52:17.572572Z",
     "iopub.status.busy": "2022-02-24T17:52:17.572339Z",
     "iopub.status.idle": "2022-02-24T17:52:21.713425Z",
     "shell.execute_reply": "2022-02-24T17:52:21.712927Z",
     "shell.execute_reply.started": "2022-02-24T17:52:17.572549Z"
    },
    "tags": []
   },
   "outputs": [
    {
     "data": {
      "text/html": [
       "<div>\n",
       "<style scoped>\n",
       "    .dataframe tbody tr th:only-of-type {\n",
       "        vertical-align: middle;\n",
       "    }\n",
       "\n",
       "    .dataframe tbody tr th {\n",
       "        vertical-align: top;\n",
       "    }\n",
       "\n",
       "    .dataframe thead th {\n",
       "        text-align: right;\n",
       "    }\n",
       "</style>\n",
       "<table border=\"1\" class=\"dataframe\">\n",
       "  <thead>\n",
       "    <tr style=\"text-align: right;\">\n",
       "      <th></th>\n",
       "      <th></th>\n",
       "    </tr>\n",
       "    <tr>\n",
       "      <th>domain</th>\n",
       "      <th>title</th>\n",
       "    </tr>\n",
       "  </thead>\n",
       "  <tbody>\n",
       "    <tr>\n",
       "      <th rowspan=\"3\" valign=\"top\">beforeitsnews.com</th>\n",
       "      <th>This Week in Guns 143 – Paris Aftermath</th>\n",
       "    </tr>\n",
       "    <tr>\n",
       "      <th>The Banality of Evil</th>\n",
       "    </tr>\n",
       "    <tr>\n",
       "      <th>Watch who you fade</th>\n",
       "    </tr>\n",
       "    <tr>\n",
       "      <th>newswithviews.com</th>\n",
       "      <th>Deanna Spingola -- The One World Order: Following the Filthy Lucre</th>\n",
       "    </tr>\n",
       "    <tr>\n",
       "      <th rowspan=\"6\" valign=\"top\">beforeitsnews.com</th>\n",
       "      <th>Dale County Executive Committee November Meeting</th>\n",
       "    </tr>\n",
       "    <tr>\n",
       "      <th>Where In The World Is Grover Cleveland?</th>\n",
       "    </tr>\n",
       "    <tr>\n",
       "      <th>FSN: Rising Deflationary Risks in the United States</th>\n",
       "    </tr>\n",
       "    <tr>\n",
       "      <th>Best Things To Do In Stockholm</th>\n",
       "    </tr>\n",
       "    <tr>\n",
       "      <th>A Clear Prophetic Warning To The Citizens of America</th>\n",
       "    </tr>\n",
       "    <tr>\n",
       "      <th>Training Day Game Time, Berry, 40 Servings</th>\n",
       "    </tr>\n",
       "  </tbody>\n",
       "</table>\n",
       "</div>"
      ],
      "text/plain": [
       "Empty DataFrame\n",
       "Columns: []\n",
       "Index: [(beforeitsnews.com, This Week in Guns 143 – Paris Aftermath), (beforeitsnews.com, The Banality of Evil), (beforeitsnews.com, Watch who you fade), (newswithviews.com, Deanna Spingola -- The One World Order: Following the Filthy Lucre), (beforeitsnews.com, Dale County Executive Committee November Meeting), (beforeitsnews.com, Where In The World Is Grover Cleveland?), (beforeitsnews.com, FSN: Rising Deflationary Risks in the United States), (beforeitsnews.com, Best Things To Do In Stockholm), (beforeitsnews.com, A Clear Prophetic Warning To The Citizens of America), (beforeitsnews.com, Training Day Game Time, Berry, 40 Servings)]"
      ]
     },
     "execution_count": 43,
     "metadata": {},
     "output_type": "execute_result"
    }
   ],
   "source": [
    "df[df[\"type\"] == \"fake\"].set_index([\"domain\",\"title\"])[[]].sample(n=10, random_state=43)"
   ]
  },
  {
   "cell_type": "markdown",
   "id": "88e07fd8",
   "metadata": {},
   "source": [
    "### Bias"
   ]
  },
  {
   "cell_type": "code",
   "execution_count": 23,
   "id": "8f2cbbb1",
   "metadata": {
    "execution": {
     "iopub.execute_input": "2022-02-23T19:52:23.047075Z",
     "iopub.status.busy": "2022-02-23T19:52:23.046841Z",
     "iopub.status.idle": "2022-02-23T19:52:27.913909Z",
     "shell.execute_reply": "2022-02-23T19:52:27.913439Z",
     "shell.execute_reply.started": "2022-02-23T19:52:23.047052Z"
    },
    "tags": []
   },
   "outputs": [
    {
     "data": {
      "text/html": [
       "<div>\n",
       "<style scoped>\n",
       "    .dataframe tbody tr th:only-of-type {\n",
       "        vertical-align: middle;\n",
       "    }\n",
       "\n",
       "    .dataframe tbody tr th {\n",
       "        vertical-align: top;\n",
       "    }\n",
       "\n",
       "    .dataframe thead th {\n",
       "        text-align: right;\n",
       "    }\n",
       "</style>\n",
       "<table border=\"1\" class=\"dataframe\">\n",
       "  <thead>\n",
       "    <tr style=\"text-align: right;\">\n",
       "      <th></th>\n",
       "      <th></th>\n",
       "    </tr>\n",
       "    <tr>\n",
       "      <th>domain</th>\n",
       "      <th>title</th>\n",
       "    </tr>\n",
       "  </thead>\n",
       "  <tbody>\n",
       "    <tr>\n",
       "      <th>sputniknews.com</th>\n",
       "      <th>Russian-S.Ossetian relations, September 2011 : The Voice of Russia: News, Breaking news, Politics, Economics, Business, Russia, International current events, Expert opinion, podcasts, Video</th>\n",
       "    </tr>\n",
       "    <tr>\n",
       "      <th>pravda.ru</th>\n",
       "      <th>Как крестить ребенка</th>\n",
       "    </tr>\n",
       "    <tr>\n",
       "      <th>conservativetribune.com</th>\n",
       "      <th>Bored With Sex Assault, Hollywood Moves on to Promoting Man-Boy Love</th>\n",
       "    </tr>\n",
       "    <tr>\n",
       "      <th rowspan=\"2\" valign=\"top\">sputniknews.com</th>\n",
       "      <th>Is IRA a real threat to British security?</th>\n",
       "    </tr>\n",
       "    <tr>\n",
       "      <th>Kizimen Volcano, 11 January 2013 : The Voice of Russia: News, Breaking news, Politics, Economics, Business, Russia, International current events, Expert opinion, podcasts, Video</th>\n",
       "    </tr>\n",
       "    <tr>\n",
       "      <th>conservapedia.com</th>\n",
       "      <th>Pages that link to \"Larry Witham\"</th>\n",
       "    </tr>\n",
       "    <tr>\n",
       "      <th>pravda.ru</th>\n",
       "      <th>Лукашенко пожелал Порошенко успехов в укреплении \"единой Украины\"</th>\n",
       "    </tr>\n",
       "    <tr>\n",
       "      <th>unz.com</th>\n",
       "      <th>Will Texas Affirmative Action case be all about blacks again?</th>\n",
       "    </tr>\n",
       "    <tr>\n",
       "      <th>sputniknews.com</th>\n",
       "      <th>Gazprom, CNPC, China Huaneng Group Agree on Electric Power Industry Cooperation</th>\n",
       "    </tr>\n",
       "    <tr>\n",
       "      <th>unz.com</th>\n",
       "      <th>Tropical-humans Topic Archive</th>\n",
       "    </tr>\n",
       "  </tbody>\n",
       "</table>\n",
       "</div>"
      ],
      "text/plain": [
       "Empty DataFrame\n",
       "Columns: []\n",
       "Index: [(sputniknews.com, Russian-S.Ossetian relations, September 2011 : The Voice of Russia: News, Breaking news, Politics, Economics, Business, Russia, International current events, Expert opinion, podcasts, Video), (pravda.ru, Как крестить ребенка), (conservativetribune.com, Bored With Sex Assault, Hollywood Moves on to Promoting Man-Boy Love), (sputniknews.com, Is IRA a real threat to British security?), (sputniknews.com, Kizimen Volcano, 11 January 2013 : The Voice of Russia: News, Breaking news, Politics, Economics, Business, Russia, International current events, Expert opinion, podcasts, Video), (conservapedia.com, Pages that link to \"Larry Witham\"), (pravda.ru, Лукашенко пожелал Порошенко успехов в укреплении \"единой Украины\"), (unz.com, Will Texas Affirmative Action case be all about blacks again?), (sputniknews.com, Gazprom, CNPC, China Huaneng Group Agree on Electric Power Industry Cooperation), (unz.com, Tropical-humans Topic Archive)]"
      ]
     },
     "execution_count": 23,
     "metadata": {},
     "output_type": "execute_result"
    }
   ],
   "source": [
    "df[df[\"type\"] == \"bias\"].set_index([\"domain\",\"title\"])[[]].sample(n=10, random_state=20)"
   ]
  },
  {
   "cell_type": "markdown",
   "id": "b08f976a",
   "metadata": {},
   "source": [
    "# Number of characters"
   ]
  },
  {
   "cell_type": "code",
   "execution_count": 44,
   "id": "101feb08-b951-46ac-9e34-fe81427ce3e8",
   "metadata": {
    "execution": {
     "iopub.execute_input": "2022-02-24T17:55:10.782475Z",
     "iopub.status.busy": "2022-02-24T17:55:10.782248Z",
     "iopub.status.idle": "2022-02-24T17:55:13.397559Z",
     "shell.execute_reply": "2022-02-24T17:55:13.397029Z",
     "shell.execute_reply.started": "2022-02-24T17:55:10.782451Z"
    },
    "tags": []
   },
   "outputs": [],
   "source": [
    "sample_df = df.sample(n=int(1e6), random_state=42)"
   ]
  },
  {
   "cell_type": "code",
   "execution_count": 53,
   "id": "e79a443e-b663-414d-a3c0-4b478946e34e",
   "metadata": {
    "execution": {
     "iopub.execute_input": "2022-02-24T18:06:58.472228Z",
     "iopub.status.busy": "2022-02-24T18:06:58.471994Z",
     "iopub.status.idle": "2022-02-24T18:07:30.875592Z",
     "shell.execute_reply": "2022-02-24T18:07:30.875083Z",
     "shell.execute_reply.started": "2022-02-24T18:06:58.472204Z"
    },
    "tags": []
   },
   "outputs": [
    {
     "name": "stderr",
     "output_type": "stream",
     "text": [
      "/opt/conda/lib/python3.8/site-packages/IPython/core/interactiveshell.py:3441: DtypeWarning: Columns (0) have mixed types.Specify dtype option on import or set low_memory=False.\n"
     ]
    },
    {
     "data": {
      "text/html": [
       "<div>\n",
       "<style scoped>\n",
       "    .dataframe tbody tr th:only-of-type {\n",
       "        vertical-align: middle;\n",
       "    }\n",
       "\n",
       "    .dataframe tbody tr th {\n",
       "        vertical-align: top;\n",
       "    }\n",
       "\n",
       "    .dataframe thead th {\n",
       "        text-align: right;\n",
       "    }\n",
       "</style>\n",
       "<table border=\"1\" class=\"dataframe\">\n",
       "  <thead>\n",
       "    <tr style=\"text-align: right;\">\n",
       "      <th></th>\n",
       "      <th>id</th>\n",
       "      <th>domain</th>\n",
       "      <th>type</th>\n",
       "      <th>url</th>\n",
       "      <th>content</th>\n",
       "      <th>scraped_at</th>\n",
       "      <th>inserted_at</th>\n",
       "      <th>updated_at</th>\n",
       "      <th>title</th>\n",
       "      <th>authors</th>\n",
       "      <th>keywords</th>\n",
       "      <th>meta_keywords</th>\n",
       "      <th>meta_description</th>\n",
       "      <th>tags</th>\n",
       "      <th>summary</th>\n",
       "      <th>source</th>\n",
       "    </tr>\n",
       "  </thead>\n",
       "  <tbody>\n",
       "    <tr>\n",
       "      <th>0</th>\n",
       "      <td>1418613</td>\n",
       "      <td>www.amazon.com</td>\n",
       "      <td>NaN</td>\n",
       "      <td>https://www.amazon.com/gp/most-gifted/books/10262</td>\n",
       "      <td>Prague in Danger: The Years of German Occupati...</td>\n",
       "      <td>2017-11-09T12:48:34.461199</td>\n",
       "      <td>2018-02-07 23:39:33.852671</td>\n",
       "      <td>2018-02-07 23:39:33.852696</td>\n",
       "      <td>Amazon.com Gift Ideas: The most popular items ...</td>\n",
       "      <td>NaN</td>\n",
       "      <td>NaN</td>\n",
       "      <td>['']</td>\n",
       "      <td>Amazon.com Gift Ideas: The most popular items ...</td>\n",
       "      <td>NaN</td>\n",
       "      <td>NaN</td>\n",
       "      <td>NaN</td>\n",
       "    </tr>\n",
       "    <tr>\n",
       "      <th>1</th>\n",
       "      <td>1894142</td>\n",
       "      <td>observer.com</td>\n",
       "      <td>political</td>\n",
       "      <td>http://observer.com/2017/11/justice-league-rev...</td>\n",
       "      <td>And away we go.\\n\\nThe first official reaction...</td>\n",
       "      <td>2017-11-10T11:18:44.524042</td>\n",
       "      <td>2018-02-07 23:39:33.852671</td>\n",
       "      <td>2018-02-07 23:39:33.852696</td>\n",
       "      <td>What Are Critics Saying About ‘Justice League’?</td>\n",
       "      <td>Brandon Katz, Brandon Katz Is A Pop Culture Ju...</td>\n",
       "      <td>NaN</td>\n",
       "      <td>['justice league reviews', 'warner bros.', 'bo...</td>\n",
       "      <td>The first reactions to Warner Bros.' 'Justice ...</td>\n",
       "      <td>NaN</td>\n",
       "      <td>NaN</td>\n",
       "      <td>NaN</td>\n",
       "    </tr>\n",
       "    <tr>\n",
       "      <th>2</th>\n",
       "      <td>3289059</td>\n",
       "      <td>randpaulreview.com</td>\n",
       "      <td>unknown</td>\n",
       "      <td>http://randpaulreview.com/after-party/324073-b...</td>\n",
       "      <td>213657 views\\n\\nviews 62 minutes, 22 seconds d...</td>\n",
       "      <td>2017-11-18T20:01:27.400599</td>\n",
       "      <td>2018-02-07 23:39:33.852671</td>\n",
       "      <td>2018-02-07 23:39:33.852696</td>\n",
       "      <td>Big tits big ass anal – randpaulreview.com</td>\n",
       "      <td>NaN</td>\n",
       "      <td>NaN</td>\n",
       "      <td>['']</td>\n",
       "      <td>Big tits big ass anal women masterbating in pu...</td>\n",
       "      <td>NaN</td>\n",
       "      <td>NaN</td>\n",
       "      <td>NaN</td>\n",
       "    </tr>\n",
       "    <tr>\n",
       "      <th>3</th>\n",
       "      <td>6786233</td>\n",
       "      <td>beforeitsnews.com</td>\n",
       "      <td>fake</td>\n",
       "      <td>http://beforeitsnews.com/diy/2016/02/heart-sha...</td>\n",
       "      <td>Heart Shaped Baked Tortilla Chips\\n\\n(Before I...</td>\n",
       "      <td>2017-11-27T01:14:08.7454</td>\n",
       "      <td>2018-02-08 19:18:34.468038</td>\n",
       "      <td>2018-02-08 19:18:34.468066</td>\n",
       "      <td>Heart Shaped Baked Tortilla Chips</td>\n",
       "      <td>NaN</td>\n",
       "      <td>NaN</td>\n",
       "      <td>['']</td>\n",
       "      <td>NaN</td>\n",
       "      <td>NaN</td>\n",
       "      <td>NaN</td>\n",
       "      <td>NaN</td>\n",
       "    </tr>\n",
       "    <tr>\n",
       "      <th>4</th>\n",
       "      <td>1163352</td>\n",
       "      <td>wikileaks.org</td>\n",
       "      <td>unreliable</td>\n",
       "      <td>https://www.wikileaks.org/plusd/cables/1975CAR...</td>\n",
       "      <td>Raw content\\n\\nLIMITED OFFICIAL USE PAGE 01 CA...</td>\n",
       "      <td>2018-01-25 20:13:50.426130</td>\n",
       "      <td>2018-02-02 01:19:41.756632</td>\n",
       "      <td>2018-02-02 01:19:41.756664</td>\n",
       "      <td>Cable: 1975CARACA06832</td>\n",
       "      <td>NaN</td>\n",
       "      <td>NaN</td>\n",
       "      <td>['']</td>\n",
       "      <td>NaN</td>\n",
       "      <td>View Tags</td>\n",
       "      <td>NaN</td>\n",
       "      <td>NaN</td>\n",
       "    </tr>\n",
       "    <tr>\n",
       "      <th>...</th>\n",
       "      <td>...</td>\n",
       "      <td>...</td>\n",
       "      <td>...</td>\n",
       "      <td>...</td>\n",
       "      <td>...</td>\n",
       "      <td>...</td>\n",
       "      <td>...</td>\n",
       "      <td>...</td>\n",
       "      <td>...</td>\n",
       "      <td>...</td>\n",
       "      <td>...</td>\n",
       "      <td>...</td>\n",
       "      <td>...</td>\n",
       "      <td>...</td>\n",
       "      <td>...</td>\n",
       "      <td>...</td>\n",
       "    </tr>\n",
       "    <tr>\n",
       "      <th>999995</th>\n",
       "      <td>1736498</td>\n",
       "      <td>breitbart.com</td>\n",
       "      <td>political</td>\n",
       "      <td>http://www.breitbart.com/video/2015/09/30/mcca...</td>\n",
       "      <td>Senator Claire McCaskill (D-MO), a Hillary Cli...</td>\n",
       "      <td>2017-11-10T11:18:44.524042</td>\n",
       "      <td>2018-02-07 23:39:33.852671</td>\n",
       "      <td>2018-02-07 23:39:33.852696</td>\n",
       "      <td>McCaskill Remarks ‘Somewhat Sarcastically’ Tha...</td>\n",
       "      <td>Ian Hanchett</td>\n",
       "      <td>NaN</td>\n",
       "      <td>['Claire McCaskill', 'Hillary Clinton Email', ...</td>\n",
       "      <td>McCaskill Remarks 'Somewhat Sarcastically' Tha...</td>\n",
       "      <td>Hillary Clinton server, Hillary Clinton Email,...</td>\n",
       "      <td>NaN</td>\n",
       "      <td>NaN</td>\n",
       "    </tr>\n",
       "    <tr>\n",
       "      <th>999996</th>\n",
       "      <td>675773</td>\n",
       "      <td>redstate.com</td>\n",
       "      <td>political</td>\n",
       "      <td>https://www.redstate.com/moe_lane/2014/12/13/s...</td>\n",
       "      <td>(H/T: Instapundit) There are several amusing t...</td>\n",
       "      <td>2018-01-25 20:13:50.426130</td>\n",
       "      <td>2018-02-02 01:19:41.756632</td>\n",
       "      <td>2018-02-02 01:19:41.756664</td>\n",
       "      <td>The Left’s plan to retake state legislatures t...</td>\n",
       "      <td>Moe Lane, Jennifer Van Laar, Carl Arbogast, Su...</td>\n",
       "      <td>NaN</td>\n",
       "      <td>['state legislatures', 'SiX', 'elections']</td>\n",
       "      <td>The Left’s plan to retake state legislatures t...</td>\n",
       "      <td>SiX, state legislatures, Elections</td>\n",
       "      <td>NaN</td>\n",
       "      <td>NaN</td>\n",
       "    </tr>\n",
       "    <tr>\n",
       "      <th>999997</th>\n",
       "      <td>51089</td>\n",
       "      <td>breitbart.com</td>\n",
       "      <td>political</td>\n",
       "      <td>http://www.breitbart.com/big-government/2016/0...</td>\n",
       "      <td>Frustrated that nobody seems to care about cli...</td>\n",
       "      <td>2018-01-25 20:13:50.426130</td>\n",
       "      <td>2018-02-02 01:19:41.756632</td>\n",
       "      <td>2018-02-02 01:19:41.756664</td>\n",
       "      <td>Campaign 2016: Nobody Cares about Climate Chan...</td>\n",
       "      <td>Marita Noon</td>\n",
       "      <td>NaN</td>\n",
       "      <td>['Climate Change', 'NextGen Climate Action', '...</td>\n",
       "      <td>Campaign 2016: Nobody Cares about Climate Chan...</td>\n",
       "      <td>south carolina primary, Senator Bernie Sanders...</td>\n",
       "      <td>NaN</td>\n",
       "      <td>NaN</td>\n",
       "    </tr>\n",
       "    <tr>\n",
       "      <th>999998</th>\n",
       "      <td>4448372</td>\n",
       "      <td>katehon.com</td>\n",
       "      <td>bias</td>\n",
       "      <td>https://katehon.com/ar/news/rdwgn-ybd-jwlth-mn...</td>\n",
       "      <td>عقد العاهل السعودي الملك سلمان بن عبد العزيز ف...</td>\n",
       "      <td>2017-11-27T01:14:42.983556</td>\n",
       "      <td>2018-02-07 23:39:33.852671</td>\n",
       "      <td>2018-02-07 23:39:33.852696</td>\n",
       "      <td>أردوغان يبدأ جولته من السعودية لحل الأزمة الخل...</td>\n",
       "      <td>NaN</td>\n",
       "      <td>NaN</td>\n",
       "      <td>['السعودية، تركيا، قطر، الكويت، الأزمة الخليجية']</td>\n",
       "      <td>عقد العاهل السعودي الملك سلمان بن عبد العزيز ف...</td>\n",
       "      <td>السعودية، تركيا، قطر، الكويت، الأزمة الخليجية</td>\n",
       "      <td>NaN</td>\n",
       "      <td>NaN</td>\n",
       "    </tr>\n",
       "    <tr>\n",
       "      <th>999999</th>\n",
       "      <td>868646</td>\n",
       "      <td>dailykos.com</td>\n",
       "      <td>political</td>\n",
       "      <td>https://www.dailykos.com/stories/2015/1/16/135...</td>\n",
       "      <td>Yes, it's true. Conservative 'hate radio' talk...</td>\n",
       "      <td>2018-01-25 20:13:50.426130</td>\n",
       "      <td>2018-02-02 01:19:41.756632</td>\n",
       "      <td>2018-02-02 01:19:41.756664</td>\n",
       "      <td>So Hard Up For Sponsors, He's Airing 'Limbaugh...</td>\n",
       "      <td>Backgroundurl Avatar_Large, Nickname, Joined, ...</td>\n",
       "      <td>NaN</td>\n",
       "      <td>['']</td>\n",
       "      <td>NaN</td>\n",
       "      <td>NaN</td>\n",
       "      <td>NaN</td>\n",
       "      <td>NaN</td>\n",
       "    </tr>\n",
       "  </tbody>\n",
       "</table>\n",
       "<p>1000000 rows × 16 columns</p>\n",
       "</div>"
      ],
      "text/plain": [
       "             id              domain        type  \\\n",
       "0       1418613      www.amazon.com         NaN   \n",
       "1       1894142        observer.com   political   \n",
       "2       3289059  randpaulreview.com     unknown   \n",
       "3       6786233   beforeitsnews.com        fake   \n",
       "4       1163352       wikileaks.org  unreliable   \n",
       "...         ...                 ...         ...   \n",
       "999995  1736498       breitbart.com   political   \n",
       "999996   675773        redstate.com   political   \n",
       "999997    51089       breitbart.com   political   \n",
       "999998  4448372         katehon.com        bias   \n",
       "999999   868646        dailykos.com   political   \n",
       "\n",
       "                                                      url  \\\n",
       "0       https://www.amazon.com/gp/most-gifted/books/10262   \n",
       "1       http://observer.com/2017/11/justice-league-rev...   \n",
       "2       http://randpaulreview.com/after-party/324073-b...   \n",
       "3       http://beforeitsnews.com/diy/2016/02/heart-sha...   \n",
       "4       https://www.wikileaks.org/plusd/cables/1975CAR...   \n",
       "...                                                   ...   \n",
       "999995  http://www.breitbart.com/video/2015/09/30/mcca...   \n",
       "999996  https://www.redstate.com/moe_lane/2014/12/13/s...   \n",
       "999997  http://www.breitbart.com/big-government/2016/0...   \n",
       "999998  https://katehon.com/ar/news/rdwgn-ybd-jwlth-mn...   \n",
       "999999  https://www.dailykos.com/stories/2015/1/16/135...   \n",
       "\n",
       "                                                  content  \\\n",
       "0       Prague in Danger: The Years of German Occupati...   \n",
       "1       And away we go.\\n\\nThe first official reaction...   \n",
       "2       213657 views\\n\\nviews 62 minutes, 22 seconds d...   \n",
       "3       Heart Shaped Baked Tortilla Chips\\n\\n(Before I...   \n",
       "4       Raw content\\n\\nLIMITED OFFICIAL USE PAGE 01 CA...   \n",
       "...                                                   ...   \n",
       "999995  Senator Claire McCaskill (D-MO), a Hillary Cli...   \n",
       "999996  (H/T: Instapundit) There are several amusing t...   \n",
       "999997  Frustrated that nobody seems to care about cli...   \n",
       "999998  عقد العاهل السعودي الملك سلمان بن عبد العزيز ف...   \n",
       "999999  Yes, it's true. Conservative 'hate radio' talk...   \n",
       "\n",
       "                        scraped_at                 inserted_at  \\\n",
       "0       2017-11-09T12:48:34.461199  2018-02-07 23:39:33.852671   \n",
       "1       2017-11-10T11:18:44.524042  2018-02-07 23:39:33.852671   \n",
       "2       2017-11-18T20:01:27.400599  2018-02-07 23:39:33.852671   \n",
       "3         2017-11-27T01:14:08.7454  2018-02-08 19:18:34.468038   \n",
       "4       2018-01-25 20:13:50.426130  2018-02-02 01:19:41.756632   \n",
       "...                            ...                         ...   \n",
       "999995  2017-11-10T11:18:44.524042  2018-02-07 23:39:33.852671   \n",
       "999996  2018-01-25 20:13:50.426130  2018-02-02 01:19:41.756632   \n",
       "999997  2018-01-25 20:13:50.426130  2018-02-02 01:19:41.756632   \n",
       "999998  2017-11-27T01:14:42.983556  2018-02-07 23:39:33.852671   \n",
       "999999  2018-01-25 20:13:50.426130  2018-02-02 01:19:41.756632   \n",
       "\n",
       "                        updated_at  \\\n",
       "0       2018-02-07 23:39:33.852696   \n",
       "1       2018-02-07 23:39:33.852696   \n",
       "2       2018-02-07 23:39:33.852696   \n",
       "3       2018-02-08 19:18:34.468066   \n",
       "4       2018-02-02 01:19:41.756664   \n",
       "...                            ...   \n",
       "999995  2018-02-07 23:39:33.852696   \n",
       "999996  2018-02-02 01:19:41.756664   \n",
       "999997  2018-02-02 01:19:41.756664   \n",
       "999998  2018-02-07 23:39:33.852696   \n",
       "999999  2018-02-02 01:19:41.756664   \n",
       "\n",
       "                                                    title  \\\n",
       "0       Amazon.com Gift Ideas: The most popular items ...   \n",
       "1         What Are Critics Saying About ‘Justice League’?   \n",
       "2              Big tits big ass anal – randpaulreview.com   \n",
       "3                       Heart Shaped Baked Tortilla Chips   \n",
       "4                                  Cable: 1975CARACA06832   \n",
       "...                                                   ...   \n",
       "999995  McCaskill Remarks ‘Somewhat Sarcastically’ Tha...   \n",
       "999996  The Left’s plan to retake state legislatures t...   \n",
       "999997  Campaign 2016: Nobody Cares about Climate Chan...   \n",
       "999998  أردوغان يبدأ جولته من السعودية لحل الأزمة الخل...   \n",
       "999999  So Hard Up For Sponsors, He's Airing 'Limbaugh...   \n",
       "\n",
       "                                                  authors  keywords  \\\n",
       "0                                                     NaN       NaN   \n",
       "1       Brandon Katz, Brandon Katz Is A Pop Culture Ju...       NaN   \n",
       "2                                                     NaN       NaN   \n",
       "3                                                     NaN       NaN   \n",
       "4                                                     NaN       NaN   \n",
       "...                                                   ...       ...   \n",
       "999995                                       Ian Hanchett       NaN   \n",
       "999996  Moe Lane, Jennifer Van Laar, Carl Arbogast, Su...       NaN   \n",
       "999997                                        Marita Noon       NaN   \n",
       "999998                                                NaN       NaN   \n",
       "999999  Backgroundurl Avatar_Large, Nickname, Joined, ...       NaN   \n",
       "\n",
       "                                            meta_keywords  \\\n",
       "0                                                    ['']   \n",
       "1       ['justice league reviews', 'warner bros.', 'bo...   \n",
       "2                                                    ['']   \n",
       "3                                                    ['']   \n",
       "4                                                    ['']   \n",
       "...                                                   ...   \n",
       "999995  ['Claire McCaskill', 'Hillary Clinton Email', ...   \n",
       "999996         ['state legislatures', 'SiX', 'elections']   \n",
       "999997  ['Climate Change', 'NextGen Climate Action', '...   \n",
       "999998  ['السعودية، تركيا، قطر، الكويت، الأزمة الخليجية']   \n",
       "999999                                               ['']   \n",
       "\n",
       "                                         meta_description  \\\n",
       "0       Amazon.com Gift Ideas: The most popular items ...   \n",
       "1       The first reactions to Warner Bros.' 'Justice ...   \n",
       "2       Big tits big ass anal women masterbating in pu...   \n",
       "3                                                     NaN   \n",
       "4                                                     NaN   \n",
       "...                                                   ...   \n",
       "999995  McCaskill Remarks 'Somewhat Sarcastically' Tha...   \n",
       "999996  The Left’s plan to retake state legislatures t...   \n",
       "999997  Campaign 2016: Nobody Cares about Climate Chan...   \n",
       "999998  عقد العاهل السعودي الملك سلمان بن عبد العزيز ف...   \n",
       "999999                                                NaN   \n",
       "\n",
       "                                                     tags  summary source  \n",
       "0                                                     NaN      NaN    NaN  \n",
       "1                                                     NaN      NaN    NaN  \n",
       "2                                                     NaN      NaN    NaN  \n",
       "3                                                     NaN      NaN    NaN  \n",
       "4                                               View Tags      NaN    NaN  \n",
       "...                                                   ...      ...    ...  \n",
       "999995  Hillary Clinton server, Hillary Clinton Email,...      NaN    NaN  \n",
       "999996                 SiX, state legislatures, Elections      NaN    NaN  \n",
       "999997  south carolina primary, Senator Bernie Sanders...      NaN    NaN  \n",
       "999998      السعودية، تركيا، قطر، الكويت، الأزمة الخليجية      NaN    NaN  \n",
       "999999                                                NaN      NaN    NaN  \n",
       "\n",
       "[1000000 rows x 16 columns]"
      ]
     },
     "execution_count": 53,
     "metadata": {},
     "output_type": "execute_result"
    }
   ],
   "source": [
    "pd.read_csv(\"../results/news_sample.csv\").shape"
   ]
  },
  {
   "cell_type": "code",
   "execution_count": 46,
   "id": "c5e1b6d4-095b-4142-b424-16d7f2c7b75e",
   "metadata": {
    "execution": {
     "iopub.execute_input": "2022-02-24T17:55:33.017467Z",
     "iopub.status.busy": "2022-02-24T17:55:33.017242Z",
     "iopub.status.idle": "2022-02-24T17:55:36.766720Z",
     "shell.execute_reply": "2022-02-24T17:55:36.766211Z",
     "shell.execute_reply.started": "2022-02-24T17:55:33.017442Z"
    },
    "tags": []
   },
   "outputs": [
    {
     "data": {
      "text/plain": [
       "1487017"
      ]
     },
     "execution_count": 46,
     "metadata": {},
     "output_type": "execute_result"
    }
   ],
   "source": [
    "del df"
   ]
  },
  {
   "cell_type": "code",
   "execution_count": 47,
   "id": "2050f058",
   "metadata": {
    "execution": {
     "iopub.execute_input": "2022-02-24T17:55:41.514224Z",
     "iopub.status.busy": "2022-02-24T17:55:41.513976Z",
     "iopub.status.idle": "2022-02-24T18:03:59.594833Z",
     "shell.execute_reply": "2022-02-24T18:03:59.594271Z",
     "shell.execute_reply.started": "2022-02-24T17:55:41.514200Z"
    },
    "tags": []
   },
   "outputs": [
    {
     "data": {
      "application/vnd.jupyter.widget-view+json": {
       "model_id": "cae0aa31d00b4dc8ac2b0e830a3558ab",
       "version_major": 2,
       "version_minor": 0
      },
      "text/plain": [
       "  0%|          | 0/1000000 [00:00<?, ?it/s]"
      ]
     },
     "metadata": {},
     "output_type": "display_data"
    },
    {
     "data": {
      "application/vnd.jupyter.widget-view+json": {
       "model_id": "2187fac8b811469b95903e2d2ba8230d",
       "version_major": 2,
       "version_minor": 0
      },
      "text/plain": [
       "  0%|          | 0/1000000 [00:00<?, ?it/s]"
      ]
     },
     "metadata": {},
     "output_type": "display_data"
    }
   ],
   "source": [
    "plot_df = sample_df[\"title\"].progress_apply(lambda x: pd.Series({\"title_length\" : len(str(x))}))\n",
    "plot_df = pd.concat([plot_df,\n",
    "                     sample_df[\"type\"], \n",
    "                     sample_df[\"content\"].astype(str).progress_apply(lambda x: pd.Series({\"content_length\" : len(x)}))], axis=1)"
   ]
  },
  {
   "cell_type": "code",
   "execution_count": 48,
   "id": "a1358aeb-39aa-4ae7-9cde-bf3764ba2c2d",
   "metadata": {
    "execution": {
     "iopub.execute_input": "2022-02-24T18:03:59.623924Z",
     "iopub.status.busy": "2022-02-24T18:03:59.623714Z",
     "iopub.status.idle": "2022-02-24T18:03:59.939344Z",
     "shell.execute_reply": "2022-02-24T18:03:59.938690Z",
     "shell.execute_reply.started": "2022-02-24T18:03:59.623902Z"
    }
   },
   "outputs": [
    {
     "data": {
      "text/plain": [
       "23"
      ]
     },
     "execution_count": 48,
     "metadata": {},
     "output_type": "execute_result"
    }
   ],
   "source": [
    "import gc\n",
    "gc.collect()"
   ]
  },
  {
   "cell_type": "code",
   "execution_count": 49,
   "id": "2886da90",
   "metadata": {
    "execution": {
     "iopub.execute_input": "2022-02-24T18:03:59.971481Z",
     "iopub.status.busy": "2022-02-24T18:03:59.971216Z",
     "iopub.status.idle": "2022-02-24T18:04:00.198871Z",
     "shell.execute_reply": "2022-02-24T18:04:00.198213Z",
     "shell.execute_reply.started": "2022-02-24T18:03:59.971456Z"
    },
    "tags": []
   },
   "outputs": [
    {
     "data": {
      "text/html": [
       "<div>\n",
       "<style scoped>\n",
       "    .dataframe tbody tr th:only-of-type {\n",
       "        vertical-align: middle;\n",
       "    }\n",
       "\n",
       "    .dataframe tbody tr th {\n",
       "        vertical-align: top;\n",
       "    }\n",
       "\n",
       "    .dataframe thead th {\n",
       "        text-align: right;\n",
       "    }\n",
       "</style>\n",
       "<table border=\"1\" class=\"dataframe\">\n",
       "  <thead>\n",
       "    <tr style=\"text-align: right;\">\n",
       "      <th></th>\n",
       "      <th>title_length</th>\n",
       "      <th>content_length</th>\n",
       "    </tr>\n",
       "  </thead>\n",
       "  <tbody>\n",
       "    <tr>\n",
       "      <th>count</th>\n",
       "      <td>1000000.000000</td>\n",
       "      <td>1000000.000000</td>\n",
       "    </tr>\n",
       "    <tr>\n",
       "      <th>mean</th>\n",
       "      <td>51.827295</td>\n",
       "      <td>2821.549602</td>\n",
       "    </tr>\n",
       "    <tr>\n",
       "      <th>std</th>\n",
       "      <td>30.286845</td>\n",
       "      <td>4330.644245</td>\n",
       "    </tr>\n",
       "    <tr>\n",
       "      <th>min</th>\n",
       "      <td>1.000000</td>\n",
       "      <td>4.000000</td>\n",
       "    </tr>\n",
       "    <tr>\n",
       "      <th>25%</th>\n",
       "      <td>27.000000</td>\n",
       "      <td>577.000000</td>\n",
       "    </tr>\n",
       "    <tr>\n",
       "      <th>50%</th>\n",
       "      <td>49.000000</td>\n",
       "      <td>1749.000000</td>\n",
       "    </tr>\n",
       "    <tr>\n",
       "      <th>75%</th>\n",
       "      <td>70.000000</td>\n",
       "      <td>3490.000000</td>\n",
       "    </tr>\n",
       "    <tr>\n",
       "      <th>max</th>\n",
       "      <td>200.000000</td>\n",
       "      <td>100000.000000</td>\n",
       "    </tr>\n",
       "  </tbody>\n",
       "</table>\n",
       "</div>"
      ],
      "text/plain": [
       "         title_length  content_length\n",
       "count  1000000.000000  1000000.000000\n",
       "mean        51.827295     2821.549602\n",
       "std         30.286845     4330.644245\n",
       "min          1.000000        4.000000\n",
       "25%         27.000000      577.000000\n",
       "50%         49.000000     1749.000000\n",
       "75%         70.000000     3490.000000\n",
       "max        200.000000   100000.000000"
      ]
     },
     "execution_count": 49,
     "metadata": {},
     "output_type": "execute_result"
    }
   ],
   "source": [
    "plot_df.describe()"
   ]
  },
  {
   "cell_type": "markdown",
   "id": "a539ecdc",
   "metadata": {},
   "source": [
    "## Title"
   ]
  },
  {
   "cell_type": "code",
   "execution_count": 51,
   "id": "1df7fafc",
   "metadata": {
    "execution": {
     "iopub.execute_input": "2022-02-24T18:05:34.698712Z",
     "iopub.status.busy": "2022-02-24T18:05:34.698546Z",
     "iopub.status.idle": "2022-02-24T18:05:36.027703Z",
     "shell.execute_reply": "2022-02-24T18:05:36.027069Z",
     "shell.execute_reply.started": "2022-02-24T18:05:34.698692Z"
    },
    "tags": []
   },
   "outputs": [
    {
     "data": {
      "image/png": "[encoded data removed]",
      "text/plain": [
       "<Figure size 500x400 with 1 Axes>"
      ]
     },
     "metadata": {},
     "output_type": "display_data"
    },
    {
     "data": {
      "text/plain": [
       "<ggplot: (8787026874884)>"
      ]
     },
     "execution_count": 51,
     "metadata": {},
     "output_type": "execute_result"
    }
   ],
   "source": [
    "g = (ggplot(plot_df, aes(x=\"title_length\")) + \n",
    "     geom_histogram(bins=70) + \n",
    "     theme_bw() +\n",
    "     theme(figure_size=(5, 4)) +\n",
    "     ggtitle(\"The average title is 27-70 characters long\") +\n",
    "     xlab(\"Number of characters in the title\") + \n",
    "     ylab(\"Count\"))\n",
    "g"
   ]
  },
  {
   "cell_type": "markdown",
   "id": "d5904200",
   "metadata": {},
   "source": [
    "## Content"
   ]
  },
  {
   "cell_type": "code",
   "execution_count": 38,
   "id": "b535b825",
   "metadata": {
    "execution": {
     "iopub.execute_input": "2022-02-23T20:22:05.846394Z",
     "iopub.status.busy": "2022-02-23T20:22:05.846139Z",
     "iopub.status.idle": "2022-02-23T20:22:07.212864Z",
     "shell.execute_reply": "2022-02-23T20:22:07.212292Z",
     "shell.execute_reply.started": "2022-02-23T20:22:05.846369Z"
    },
    "tags": []
   },
   "outputs": [
    {
     "data": {
      "image/png": "[encoded data removed]",
      "text/plain": [
       "<Figure size 500x400 with 1 Axes>"
      ]
     },
     "metadata": {},
     "output_type": "display_data"
    },
    {
     "data": {
      "text/plain": [
       "<ggplot: (8760340680903)>"
      ]
     },
     "execution_count": 38,
     "metadata": {},
     "output_type": "execute_result"
    }
   ],
   "source": [
    "g = (ggplot(plot_df, aes(x=\"content_length\")) + \n",
    "     geom_histogram(bins=70) + \n",
    "     theme_bw() +\n",
    "     theme(figure_size=(5, 4)) +\n",
    "     ggtitle(\"Length of content is more varied\") +\n",
    "     xlab(\"Number of characters in the content of the news piece\") + \n",
    "     ylab(\"Count\"))\n",
    "g"
   ]
  },
  {
   "cell_type": "markdown",
   "id": "41df57d1",
   "metadata": {},
   "source": [
    "It helps to plot the x-axis on a log scale"
   ]
  },
  {
   "cell_type": "code",
   "execution_count": 39,
   "id": "f4ee3e38",
   "metadata": {
    "execution": {
     "iopub.execute_input": "2022-02-23T20:22:10.678446Z",
     "iopub.status.busy": "2022-02-23T20:22:10.678216Z",
     "iopub.status.idle": "2022-02-23T20:22:12.353900Z",
     "shell.execute_reply": "2022-02-23T20:22:12.353311Z",
     "shell.execute_reply.started": "2022-02-23T20:22:10.678424Z"
    },
    "tags": []
   },
   "outputs": [
    {
     "data": {
      "image/png": "[encoded data removed]",
      "text/plain": [
       "<Figure size 500x400 with 1 Axes>"
      ]
     },
     "metadata": {},
     "output_type": "display_data"
    },
    {
     "data": {
      "text/plain": [
       "<ggplot: (8760467908831)>"
      ]
     },
     "execution_count": 39,
     "metadata": {},
     "output_type": "execute_result"
    }
   ],
   "source": [
    "g = (ggplot(plot_df, aes(x=\"content_length\")) + \n",
    "     geom_histogram(bins=70) + \n",
    "     theme_bw() +\n",
    "     theme(figure_size=(5, 4)) +\n",
    "     ggtitle(\"Length of content is more varied\") +\n",
    "     scale_x_continuous(trans=\"log10\", labels=lambda x: [int(xx) for xx in x]) +\n",
    "     xlab(\"Number of characters in the content (log10)\") + \n",
    "     ylab(\"Count\"))\n",
    "g"
   ]
  },
  {
   "cell_type": "markdown",
   "id": "f4a543b3",
   "metadata": {},
   "source": [
    "## Length of content per news type"
   ]
  },
  {
   "cell_type": "code",
   "execution_count": 43,
   "id": "d3766863",
   "metadata": {
    "execution": {
     "iopub.execute_input": "2022-02-23T20:29:43.477995Z",
     "iopub.status.busy": "2022-02-23T20:29:43.477758Z",
     "iopub.status.idle": "2022-02-23T20:29:53.408449Z",
     "shell.execute_reply": "2022-02-23T20:29:53.407974Z",
     "shell.execute_reply.started": "2022-02-23T20:29:43.477972Z"
    },
    "tags": []
   },
   "outputs": [
    {
     "name": "stderr",
     "output_type": "stream",
     "text": [
      "/opt/conda/lib/python3.8/site-packages/plotnine/facets/facet.py:390: PlotnineWarning: If you need more space for the x-axis tick text use ... + theme(subplots_adjust={'wspace': 0.25}). Choose an appropriate value for 'wspace'.\n"
     ]
    },
    {
     "data": {
      "image/png": "[encoded data removed]",
      "text/plain": [
       "<Figure size 1550x2050 with 13 Axes>"
      ]
     },
     "metadata": {},
     "output_type": "display_data"
    },
    {
     "data": {
      "text/plain": [
       "<ggplot: (8760499310279)>"
      ]
     },
     "execution_count": 43,
     "metadata": {},
     "output_type": "execute_result"
    }
   ],
   "source": [
    "g = (ggplot(plot_df, aes(x=\"content_length\", fill=\"type\")) + \n",
    "     geom_histogram(bins=70, alpha=0.7) + \n",
    "     theme_bw() +\n",
    "     theme(figure_size=(5*3+0.5, 4*5+0.5)) +\n",
    "     ggtitle(\"Length of content varies a bit according to the type of news\") +\n",
    "     scale_x_continuous(trans=\"log10\", labels=lambda x: [int(xx) for xx in x]) +\n",
    "     scale_fill_discrete(guide=False) +\n",
    "     xlab(\"Number of characters in the content (log10)\") + \n",
    "     ylab(\"Count\") + \n",
    "     facet_wrap(\"~ type\", ncol=2, scales=\"free_y\"))\n",
    "g"
   ]
  }
 ],
 "metadata": {
  "kernelspec": {
   "display_name": "Python 3",
   "language": "python",
   "name": "python3"
  },
  "language_info": {
   "codemirror_mode": {
    "name": "ipython",
    "version": 3
   },
   "file_extension": ".py",
   "mimetype": "text/x-python",
   "name": "python",
   "nbconvert_exporter": "python",
   "pygments_lexer": "ipython3",
   "version": "3.8.5"
  },
  "toc-autonumbering": true
 },
 "nbformat": 4,
 "nbformat_minor": 5
}
